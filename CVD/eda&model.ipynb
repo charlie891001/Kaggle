{
 "cells": [
  {
   "cell_type": "code",
   "execution_count": null,
   "metadata": {},
   "outputs": [],
   "source": [
    "import pandas as pd\n",
    "df = pd.read_csv(\"C:/Users/CHARLIE/Desktop/cardio/cardio_train.csv\", sep = ';', index_col='id')\n",
    "df.index.name = None\n",
    "df"
   ]
  },
  {
   "cell_type": "markdown",
   "metadata": {},
   "source": [
    "## 資料說明\n",
    "==="
   ]
  },
  {
   "cell_type": "markdown",
   "metadata": {},
   "source": [
    "###  特徵：\n",
    "1. 年齡\n",
    "2. 身高\n",
    "3. 重量\n",
    "4. 性別 (1: 女；2: 男)\n",
    "5. 收縮壓\n",
    "6. 舒張壓\n",
    "7. 膽固醇 (1：正常；2：高於正常；3：遠高於正常)\n",
    "8. 葡萄糖 (1：正常；2：高於正常；3：遠高於正常)\n",
    "9. 吸煙\n",
    "10. 酒精攝取\n",
    "11. 體力活動\n",
    "12. 是否存在心血管疾病 (0: 否；1: 是)"
   ]
  },
  {
   "cell_type": "markdown",
   "metadata": {},
   "source": [
    "## 資料處理/EDA\n",
    "==="
   ]
  },
  {
   "cell_type": "code",
   "execution_count": 4,
   "metadata": {},
   "outputs": [
    {
     "data": {
      "text/plain": [
       "age            0\n",
       "gender         0\n",
       "height         0\n",
       "weight         0\n",
       "ap_hi          0\n",
       "ap_lo          0\n",
       "cholesterol    0\n",
       "gluc           0\n",
       "smoke          0\n",
       "alco           0\n",
       "active         0\n",
       "cardio         0\n",
       "dtype: int64"
      ]
     },
     "execution_count": 4,
     "metadata": {},
     "output_type": "execute_result"
    }
   ],
   "source": [
    "df.isnull().sum()"
   ]
  },
  {
   "cell_type": "markdown",
   "metadata": {},
   "source": [
    "轉換資料"
   ]
  },
  {
   "cell_type": "code",
   "execution_count": 5,
   "metadata": {},
   "outputs": [
    {
     "data": {
      "text/html": [
       "<div>\n",
       "<style scoped>\n",
       "    .dataframe tbody tr th:only-of-type {\n",
       "        vertical-align: middle;\n",
       "    }\n",
       "\n",
       "    .dataframe tbody tr th {\n",
       "        vertical-align: top;\n",
       "    }\n",
       "\n",
       "    .dataframe thead th {\n",
       "        text-align: right;\n",
       "    }\n",
       "</style>\n",
       "<table border=\"1\" class=\"dataframe\">\n",
       "  <thead>\n",
       "    <tr style=\"text-align: right;\">\n",
       "      <th></th>\n",
       "      <th>age</th>\n",
       "      <th>gender</th>\n",
       "      <th>height</th>\n",
       "      <th>weight</th>\n",
       "      <th>ap_hi</th>\n",
       "      <th>ap_lo</th>\n",
       "      <th>cholesterol</th>\n",
       "      <th>gluc</th>\n",
       "      <th>smoke</th>\n",
       "      <th>alco</th>\n",
       "      <th>active</th>\n",
       "      <th>cardio</th>\n",
       "    </tr>\n",
       "  </thead>\n",
       "  <tbody>\n",
       "    <tr>\n",
       "      <th>0</th>\n",
       "      <td>50</td>\n",
       "      <td>2</td>\n",
       "      <td>168</td>\n",
       "      <td>62.0</td>\n",
       "      <td>110</td>\n",
       "      <td>80</td>\n",
       "      <td>1</td>\n",
       "      <td>1</td>\n",
       "      <td>0</td>\n",
       "      <td>0</td>\n",
       "      <td>1</td>\n",
       "      <td>0</td>\n",
       "    </tr>\n",
       "    <tr>\n",
       "      <th>1</th>\n",
       "      <td>55</td>\n",
       "      <td>1</td>\n",
       "      <td>156</td>\n",
       "      <td>85.0</td>\n",
       "      <td>140</td>\n",
       "      <td>90</td>\n",
       "      <td>3</td>\n",
       "      <td>1</td>\n",
       "      <td>0</td>\n",
       "      <td>0</td>\n",
       "      <td>1</td>\n",
       "      <td>1</td>\n",
       "    </tr>\n",
       "    <tr>\n",
       "      <th>2</th>\n",
       "      <td>51</td>\n",
       "      <td>1</td>\n",
       "      <td>165</td>\n",
       "      <td>64.0</td>\n",
       "      <td>130</td>\n",
       "      <td>70</td>\n",
       "      <td>3</td>\n",
       "      <td>1</td>\n",
       "      <td>0</td>\n",
       "      <td>0</td>\n",
       "      <td>0</td>\n",
       "      <td>1</td>\n",
       "    </tr>\n",
       "    <tr>\n",
       "      <th>3</th>\n",
       "      <td>48</td>\n",
       "      <td>2</td>\n",
       "      <td>169</td>\n",
       "      <td>82.0</td>\n",
       "      <td>150</td>\n",
       "      <td>100</td>\n",
       "      <td>1</td>\n",
       "      <td>1</td>\n",
       "      <td>0</td>\n",
       "      <td>0</td>\n",
       "      <td>1</td>\n",
       "      <td>1</td>\n",
       "    </tr>\n",
       "    <tr>\n",
       "      <th>4</th>\n",
       "      <td>47</td>\n",
       "      <td>1</td>\n",
       "      <td>156</td>\n",
       "      <td>56.0</td>\n",
       "      <td>100</td>\n",
       "      <td>60</td>\n",
       "      <td>1</td>\n",
       "      <td>1</td>\n",
       "      <td>0</td>\n",
       "      <td>0</td>\n",
       "      <td>0</td>\n",
       "      <td>0</td>\n",
       "    </tr>\n",
       "    <tr>\n",
       "      <th>...</th>\n",
       "      <td>...</td>\n",
       "      <td>...</td>\n",
       "      <td>...</td>\n",
       "      <td>...</td>\n",
       "      <td>...</td>\n",
       "      <td>...</td>\n",
       "      <td>...</td>\n",
       "      <td>...</td>\n",
       "      <td>...</td>\n",
       "      <td>...</td>\n",
       "      <td>...</td>\n",
       "      <td>...</td>\n",
       "    </tr>\n",
       "    <tr>\n",
       "      <th>99993</th>\n",
       "      <td>52</td>\n",
       "      <td>2</td>\n",
       "      <td>168</td>\n",
       "      <td>76.0</td>\n",
       "      <td>120</td>\n",
       "      <td>80</td>\n",
       "      <td>1</td>\n",
       "      <td>1</td>\n",
       "      <td>1</td>\n",
       "      <td>0</td>\n",
       "      <td>1</td>\n",
       "      <td>0</td>\n",
       "    </tr>\n",
       "    <tr>\n",
       "      <th>99995</th>\n",
       "      <td>61</td>\n",
       "      <td>1</td>\n",
       "      <td>158</td>\n",
       "      <td>126.0</td>\n",
       "      <td>140</td>\n",
       "      <td>90</td>\n",
       "      <td>2</td>\n",
       "      <td>2</td>\n",
       "      <td>0</td>\n",
       "      <td>0</td>\n",
       "      <td>1</td>\n",
       "      <td>1</td>\n",
       "    </tr>\n",
       "    <tr>\n",
       "      <th>99996</th>\n",
       "      <td>52</td>\n",
       "      <td>2</td>\n",
       "      <td>183</td>\n",
       "      <td>105.0</td>\n",
       "      <td>180</td>\n",
       "      <td>90</td>\n",
       "      <td>3</td>\n",
       "      <td>1</td>\n",
       "      <td>0</td>\n",
       "      <td>1</td>\n",
       "      <td>0</td>\n",
       "      <td>1</td>\n",
       "    </tr>\n",
       "    <tr>\n",
       "      <th>99998</th>\n",
       "      <td>61</td>\n",
       "      <td>1</td>\n",
       "      <td>163</td>\n",
       "      <td>72.0</td>\n",
       "      <td>135</td>\n",
       "      <td>80</td>\n",
       "      <td>1</td>\n",
       "      <td>2</td>\n",
       "      <td>0</td>\n",
       "      <td>0</td>\n",
       "      <td>0</td>\n",
       "      <td>1</td>\n",
       "    </tr>\n",
       "    <tr>\n",
       "      <th>99999</th>\n",
       "      <td>56</td>\n",
       "      <td>1</td>\n",
       "      <td>170</td>\n",
       "      <td>72.0</td>\n",
       "      <td>120</td>\n",
       "      <td>80</td>\n",
       "      <td>2</td>\n",
       "      <td>1</td>\n",
       "      <td>0</td>\n",
       "      <td>0</td>\n",
       "      <td>1</td>\n",
       "      <td>0</td>\n",
       "    </tr>\n",
       "  </tbody>\n",
       "</table>\n",
       "<p>70000 rows × 12 columns</p>\n",
       "</div>"
      ],
      "text/plain": [
       "       age  gender  height  weight  ap_hi  ap_lo  cholesterol  gluc  smoke  \\\n",
       "0       50       2     168    62.0    110     80            1     1      0   \n",
       "1       55       1     156    85.0    140     90            3     1      0   \n",
       "2       51       1     165    64.0    130     70            3     1      0   \n",
       "3       48       2     169    82.0    150    100            1     1      0   \n",
       "4       47       1     156    56.0    100     60            1     1      0   \n",
       "...    ...     ...     ...     ...    ...    ...          ...   ...    ...   \n",
       "99993   52       2     168    76.0    120     80            1     1      1   \n",
       "99995   61       1     158   126.0    140     90            2     2      0   \n",
       "99996   52       2     183   105.0    180     90            3     1      0   \n",
       "99998   61       1     163    72.0    135     80            1     2      0   \n",
       "99999   56       1     170    72.0    120     80            2     1      0   \n",
       "\n",
       "       alco  active  cardio  \n",
       "0         0       1       0  \n",
       "1         0       1       1  \n",
       "2         0       0       1  \n",
       "3         0       1       1  \n",
       "4         0       0       0  \n",
       "...     ...     ...     ...  \n",
       "99993     0       1       0  \n",
       "99995     0       1       1  \n",
       "99996     1       0       1  \n",
       "99998     0       0       1  \n",
       "99999     0       1       0  \n",
       "\n",
       "[70000 rows x 12 columns]"
      ]
     },
     "execution_count": 5,
     "metadata": {},
     "output_type": "execute_result"
    }
   ],
   "source": [
    "df['age'] = df['age'] // 365\n",
    "df"
   ]
  },
  {
   "cell_type": "code",
   "execution_count": 6,
   "metadata": {},
   "outputs": [
    {
     "data": {
      "text/html": [
       "<div>\n",
       "<style scoped>\n",
       "    .dataframe tbody tr th:only-of-type {\n",
       "        vertical-align: middle;\n",
       "    }\n",
       "\n",
       "    .dataframe tbody tr th {\n",
       "        vertical-align: top;\n",
       "    }\n",
       "\n",
       "    .dataframe thead th {\n",
       "        text-align: right;\n",
       "    }\n",
       "</style>\n",
       "<table border=\"1\" class=\"dataframe\">\n",
       "  <thead>\n",
       "    <tr style=\"text-align: right;\">\n",
       "      <th></th>\n",
       "      <th>age</th>\n",
       "      <th>gender</th>\n",
       "      <th>height</th>\n",
       "      <th>weight</th>\n",
       "      <th>ap_hi</th>\n",
       "      <th>ap_lo</th>\n",
       "      <th>cholesterol</th>\n",
       "      <th>gluc</th>\n",
       "      <th>smoke</th>\n",
       "      <th>alco</th>\n",
       "      <th>active</th>\n",
       "      <th>cardio</th>\n",
       "      <th>BMI</th>\n",
       "    </tr>\n",
       "  </thead>\n",
       "  <tbody>\n",
       "    <tr>\n",
       "      <th>0</th>\n",
       "      <td>50</td>\n",
       "      <td>2</td>\n",
       "      <td>168</td>\n",
       "      <td>62.0</td>\n",
       "      <td>110</td>\n",
       "      <td>80</td>\n",
       "      <td>1</td>\n",
       "      <td>1</td>\n",
       "      <td>0</td>\n",
       "      <td>0</td>\n",
       "      <td>1</td>\n",
       "      <td>0</td>\n",
       "      <td>21.97</td>\n",
       "    </tr>\n",
       "    <tr>\n",
       "      <th>1</th>\n",
       "      <td>55</td>\n",
       "      <td>1</td>\n",
       "      <td>156</td>\n",
       "      <td>85.0</td>\n",
       "      <td>140</td>\n",
       "      <td>90</td>\n",
       "      <td>3</td>\n",
       "      <td>1</td>\n",
       "      <td>0</td>\n",
       "      <td>0</td>\n",
       "      <td>1</td>\n",
       "      <td>1</td>\n",
       "      <td>34.93</td>\n",
       "    </tr>\n",
       "    <tr>\n",
       "      <th>2</th>\n",
       "      <td>51</td>\n",
       "      <td>1</td>\n",
       "      <td>165</td>\n",
       "      <td>64.0</td>\n",
       "      <td>130</td>\n",
       "      <td>70</td>\n",
       "      <td>3</td>\n",
       "      <td>1</td>\n",
       "      <td>0</td>\n",
       "      <td>0</td>\n",
       "      <td>0</td>\n",
       "      <td>1</td>\n",
       "      <td>23.51</td>\n",
       "    </tr>\n",
       "    <tr>\n",
       "      <th>3</th>\n",
       "      <td>48</td>\n",
       "      <td>2</td>\n",
       "      <td>169</td>\n",
       "      <td>82.0</td>\n",
       "      <td>150</td>\n",
       "      <td>100</td>\n",
       "      <td>1</td>\n",
       "      <td>1</td>\n",
       "      <td>0</td>\n",
       "      <td>0</td>\n",
       "      <td>1</td>\n",
       "      <td>1</td>\n",
       "      <td>28.71</td>\n",
       "    </tr>\n",
       "    <tr>\n",
       "      <th>4</th>\n",
       "      <td>47</td>\n",
       "      <td>1</td>\n",
       "      <td>156</td>\n",
       "      <td>56.0</td>\n",
       "      <td>100</td>\n",
       "      <td>60</td>\n",
       "      <td>1</td>\n",
       "      <td>1</td>\n",
       "      <td>0</td>\n",
       "      <td>0</td>\n",
       "      <td>0</td>\n",
       "      <td>0</td>\n",
       "      <td>23.01</td>\n",
       "    </tr>\n",
       "    <tr>\n",
       "      <th>...</th>\n",
       "      <td>...</td>\n",
       "      <td>...</td>\n",
       "      <td>...</td>\n",
       "      <td>...</td>\n",
       "      <td>...</td>\n",
       "      <td>...</td>\n",
       "      <td>...</td>\n",
       "      <td>...</td>\n",
       "      <td>...</td>\n",
       "      <td>...</td>\n",
       "      <td>...</td>\n",
       "      <td>...</td>\n",
       "      <td>...</td>\n",
       "    </tr>\n",
       "    <tr>\n",
       "      <th>99993</th>\n",
       "      <td>52</td>\n",
       "      <td>2</td>\n",
       "      <td>168</td>\n",
       "      <td>76.0</td>\n",
       "      <td>120</td>\n",
       "      <td>80</td>\n",
       "      <td>1</td>\n",
       "      <td>1</td>\n",
       "      <td>1</td>\n",
       "      <td>0</td>\n",
       "      <td>1</td>\n",
       "      <td>0</td>\n",
       "      <td>26.93</td>\n",
       "    </tr>\n",
       "    <tr>\n",
       "      <th>99995</th>\n",
       "      <td>61</td>\n",
       "      <td>1</td>\n",
       "      <td>158</td>\n",
       "      <td>126.0</td>\n",
       "      <td>140</td>\n",
       "      <td>90</td>\n",
       "      <td>2</td>\n",
       "      <td>2</td>\n",
       "      <td>0</td>\n",
       "      <td>0</td>\n",
       "      <td>1</td>\n",
       "      <td>1</td>\n",
       "      <td>50.47</td>\n",
       "    </tr>\n",
       "    <tr>\n",
       "      <th>99996</th>\n",
       "      <td>52</td>\n",
       "      <td>2</td>\n",
       "      <td>183</td>\n",
       "      <td>105.0</td>\n",
       "      <td>180</td>\n",
       "      <td>90</td>\n",
       "      <td>3</td>\n",
       "      <td>1</td>\n",
       "      <td>0</td>\n",
       "      <td>1</td>\n",
       "      <td>0</td>\n",
       "      <td>1</td>\n",
       "      <td>31.35</td>\n",
       "    </tr>\n",
       "    <tr>\n",
       "      <th>99998</th>\n",
       "      <td>61</td>\n",
       "      <td>1</td>\n",
       "      <td>163</td>\n",
       "      <td>72.0</td>\n",
       "      <td>135</td>\n",
       "      <td>80</td>\n",
       "      <td>1</td>\n",
       "      <td>2</td>\n",
       "      <td>0</td>\n",
       "      <td>0</td>\n",
       "      <td>0</td>\n",
       "      <td>1</td>\n",
       "      <td>27.10</td>\n",
       "    </tr>\n",
       "    <tr>\n",
       "      <th>99999</th>\n",
       "      <td>56</td>\n",
       "      <td>1</td>\n",
       "      <td>170</td>\n",
       "      <td>72.0</td>\n",
       "      <td>120</td>\n",
       "      <td>80</td>\n",
       "      <td>2</td>\n",
       "      <td>1</td>\n",
       "      <td>0</td>\n",
       "      <td>0</td>\n",
       "      <td>1</td>\n",
       "      <td>0</td>\n",
       "      <td>24.91</td>\n",
       "    </tr>\n",
       "  </tbody>\n",
       "</table>\n",
       "<p>70000 rows × 13 columns</p>\n",
       "</div>"
      ],
      "text/plain": [
       "       age  gender  height  weight  ap_hi  ap_lo  cholesterol  gluc  smoke  \\\n",
       "0       50       2     168    62.0    110     80            1     1      0   \n",
       "1       55       1     156    85.0    140     90            3     1      0   \n",
       "2       51       1     165    64.0    130     70            3     1      0   \n",
       "3       48       2     169    82.0    150    100            1     1      0   \n",
       "4       47       1     156    56.0    100     60            1     1      0   \n",
       "...    ...     ...     ...     ...    ...    ...          ...   ...    ...   \n",
       "99993   52       2     168    76.0    120     80            1     1      1   \n",
       "99995   61       1     158   126.0    140     90            2     2      0   \n",
       "99996   52       2     183   105.0    180     90            3     1      0   \n",
       "99998   61       1     163    72.0    135     80            1     2      0   \n",
       "99999   56       1     170    72.0    120     80            2     1      0   \n",
       "\n",
       "       alco  active  cardio    BMI  \n",
       "0         0       1       0  21.97  \n",
       "1         0       1       1  34.93  \n",
       "2         0       0       1  23.51  \n",
       "3         0       1       1  28.71  \n",
       "4         0       0       0  23.01  \n",
       "...     ...     ...     ...    ...  \n",
       "99993     0       1       0  26.93  \n",
       "99995     0       1       1  50.47  \n",
       "99996     1       0       1  31.35  \n",
       "99998     0       0       1  27.10  \n",
       "99999     0       1       0  24.91  \n",
       "\n",
       "[70000 rows x 13 columns]"
      ]
     },
     "execution_count": 6,
     "metadata": {},
     "output_type": "execute_result"
    }
   ],
   "source": [
    "df['BMI'] = round(df['weight'] / (((df['height']) / 100)**2), 2)\n",
    "df"
   ]
  },
  {
   "cell_type": "code",
   "execution_count": 7,
   "metadata": {},
   "outputs": [
    {
     "name": "stdout",
     "output_type": "stream",
     "text": [
      "<class 'pandas.core.frame.DataFrame'>\n",
      "Int64Index: 70000 entries, 0 to 99999\n",
      "Data columns (total 13 columns):\n",
      " #   Column       Non-Null Count  Dtype  \n",
      "---  ------       --------------  -----  \n",
      " 0   age          70000 non-null  int64  \n",
      " 1   gender       70000 non-null  int64  \n",
      " 2   height       70000 non-null  int64  \n",
      " 3   weight       70000 non-null  float64\n",
      " 4   ap_hi        70000 non-null  int64  \n",
      " 5   ap_lo        70000 non-null  int64  \n",
      " 6   cholesterol  70000 non-null  int64  \n",
      " 7   gluc         70000 non-null  int64  \n",
      " 8   smoke        70000 non-null  int64  \n",
      " 9   alco         70000 non-null  int64  \n",
      " 10  active       70000 non-null  int64  \n",
      " 11  cardio       70000 non-null  int64  \n",
      " 12  BMI          70000 non-null  float64\n",
      "dtypes: float64(2), int64(11)\n",
      "memory usage: 7.5 MB\n"
     ]
    }
   ],
   "source": [
    "df.info()"
   ]
  },
  {
   "cell_type": "code",
   "execution_count": 8,
   "metadata": {},
   "outputs": [],
   "source": [
    "df_copy = df.copy()"
   ]
  },
  {
   "cell_type": "code",
   "execution_count": 9,
   "metadata": {},
   "outputs": [
    {
     "name": "stdout",
     "output_type": "stream",
     "text": [
      "<class 'pandas.core.frame.DataFrame'>\n",
      "Int64Index: 70000 entries, 0 to 99999\n",
      "Data columns (total 13 columns):\n",
      " #   Column       Non-Null Count  Dtype  \n",
      "---  ------       --------------  -----  \n",
      " 0   age          70000 non-null  int64  \n",
      " 1   gender       70000 non-null  object \n",
      " 2   height       70000 non-null  int64  \n",
      " 3   weight       70000 non-null  float64\n",
      " 4   ap_hi        70000 non-null  int64  \n",
      " 5   ap_lo        70000 non-null  int64  \n",
      " 6   cholesterol  70000 non-null  object \n",
      " 7   gluc         70000 non-null  object \n",
      " 8   smoke        70000 non-null  object \n",
      " 9   alco         70000 non-null  object \n",
      " 10  active       70000 non-null  object \n",
      " 11  cardio       70000 non-null  object \n",
      " 12  BMI          70000 non-null  float64\n",
      "dtypes: float64(2), int64(4), object(7)\n",
      "memory usage: 7.5+ MB\n"
     ]
    }
   ],
   "source": [
    "df_copy['cholesterol'] = df_copy['cholesterol'].astype(str)\n",
    "df_copy['gluc'] = df_copy['gluc'].astype(str)\n",
    "df_copy['smoke'] = df_copy['smoke'].astype(str)\n",
    "df_copy['alco'] = df_copy['alco'].astype(str)\n",
    "df_copy['active'] = df_copy['active'].astype(str)\n",
    "df_copy['cardio'] = df_copy['cardio'].astype(str)\n",
    "def gender_convert(x):\n",
    "    if x == 1:\n",
    "        return 'Female'\n",
    "    else:\n",
    "        return 'Male'\n",
    "df_copy['gender'] = df_copy['gender'].apply(gender_convert)\n",
    "df_copy.info()"
   ]
  },
  {
   "cell_type": "code",
   "execution_count": 10,
   "metadata": {},
   "outputs": [
    {
     "data": {
      "text/html": [
       "<div>\n",
       "<style scoped>\n",
       "    .dataframe tbody tr th:only-of-type {\n",
       "        vertical-align: middle;\n",
       "    }\n",
       "\n",
       "    .dataframe tbody tr th {\n",
       "        vertical-align: top;\n",
       "    }\n",
       "\n",
       "    .dataframe thead th {\n",
       "        text-align: right;\n",
       "    }\n",
       "</style>\n",
       "<table border=\"1\" class=\"dataframe\">\n",
       "  <thead>\n",
       "    <tr style=\"text-align: right;\">\n",
       "      <th></th>\n",
       "      <th>age</th>\n",
       "      <th>gender</th>\n",
       "      <th>height</th>\n",
       "      <th>weight</th>\n",
       "      <th>ap_hi</th>\n",
       "      <th>ap_lo</th>\n",
       "      <th>cholesterol</th>\n",
       "      <th>gluc</th>\n",
       "      <th>smoke</th>\n",
       "      <th>alco</th>\n",
       "      <th>active</th>\n",
       "      <th>cardio</th>\n",
       "      <th>BMI</th>\n",
       "    </tr>\n",
       "  </thead>\n",
       "  <tbody>\n",
       "    <tr>\n",
       "      <th>count</th>\n",
       "      <td>70000.000000</td>\n",
       "      <td>70000</td>\n",
       "      <td>70000.000000</td>\n",
       "      <td>70000.000000</td>\n",
       "      <td>70000.000000</td>\n",
       "      <td>70000.000000</td>\n",
       "      <td>70000</td>\n",
       "      <td>70000</td>\n",
       "      <td>70000</td>\n",
       "      <td>70000</td>\n",
       "      <td>70000</td>\n",
       "      <td>70000</td>\n",
       "      <td>70000.000000</td>\n",
       "    </tr>\n",
       "    <tr>\n",
       "      <th>unique</th>\n",
       "      <td>NaN</td>\n",
       "      <td>2</td>\n",
       "      <td>NaN</td>\n",
       "      <td>NaN</td>\n",
       "      <td>NaN</td>\n",
       "      <td>NaN</td>\n",
       "      <td>3</td>\n",
       "      <td>3</td>\n",
       "      <td>2</td>\n",
       "      <td>2</td>\n",
       "      <td>2</td>\n",
       "      <td>2</td>\n",
       "      <td>NaN</td>\n",
       "    </tr>\n",
       "    <tr>\n",
       "      <th>top</th>\n",
       "      <td>NaN</td>\n",
       "      <td>Female</td>\n",
       "      <td>NaN</td>\n",
       "      <td>NaN</td>\n",
       "      <td>NaN</td>\n",
       "      <td>NaN</td>\n",
       "      <td>1</td>\n",
       "      <td>1</td>\n",
       "      <td>0</td>\n",
       "      <td>0</td>\n",
       "      <td>1</td>\n",
       "      <td>0</td>\n",
       "      <td>NaN</td>\n",
       "    </tr>\n",
       "    <tr>\n",
       "      <th>freq</th>\n",
       "      <td>NaN</td>\n",
       "      <td>45530</td>\n",
       "      <td>NaN</td>\n",
       "      <td>NaN</td>\n",
       "      <td>NaN</td>\n",
       "      <td>NaN</td>\n",
       "      <td>52385</td>\n",
       "      <td>59479</td>\n",
       "      <td>63831</td>\n",
       "      <td>66236</td>\n",
       "      <td>56261</td>\n",
       "      <td>35021</td>\n",
       "      <td>NaN</td>\n",
       "    </tr>\n",
       "    <tr>\n",
       "      <th>mean</th>\n",
       "      <td>52.840671</td>\n",
       "      <td>NaN</td>\n",
       "      <td>164.359229</td>\n",
       "      <td>74.205690</td>\n",
       "      <td>128.817286</td>\n",
       "      <td>96.630414</td>\n",
       "      <td>NaN</td>\n",
       "      <td>NaN</td>\n",
       "      <td>NaN</td>\n",
       "      <td>NaN</td>\n",
       "      <td>NaN</td>\n",
       "      <td>NaN</td>\n",
       "      <td>27.556545</td>\n",
       "    </tr>\n",
       "    <tr>\n",
       "      <th>std</th>\n",
       "      <td>6.766774</td>\n",
       "      <td>NaN</td>\n",
       "      <td>8.210126</td>\n",
       "      <td>14.395757</td>\n",
       "      <td>154.011419</td>\n",
       "      <td>188.472530</td>\n",
       "      <td>NaN</td>\n",
       "      <td>NaN</td>\n",
       "      <td>NaN</td>\n",
       "      <td>NaN</td>\n",
       "      <td>NaN</td>\n",
       "      <td>NaN</td>\n",
       "      <td>6.091405</td>\n",
       "    </tr>\n",
       "    <tr>\n",
       "      <th>min</th>\n",
       "      <td>29.000000</td>\n",
       "      <td>NaN</td>\n",
       "      <td>55.000000</td>\n",
       "      <td>10.000000</td>\n",
       "      <td>-150.000000</td>\n",
       "      <td>-70.000000</td>\n",
       "      <td>NaN</td>\n",
       "      <td>NaN</td>\n",
       "      <td>NaN</td>\n",
       "      <td>NaN</td>\n",
       "      <td>NaN</td>\n",
       "      <td>NaN</td>\n",
       "      <td>3.470000</td>\n",
       "    </tr>\n",
       "    <tr>\n",
       "      <th>25%</th>\n",
       "      <td>48.000000</td>\n",
       "      <td>NaN</td>\n",
       "      <td>159.000000</td>\n",
       "      <td>65.000000</td>\n",
       "      <td>120.000000</td>\n",
       "      <td>80.000000</td>\n",
       "      <td>NaN</td>\n",
       "      <td>NaN</td>\n",
       "      <td>NaN</td>\n",
       "      <td>NaN</td>\n",
       "      <td>NaN</td>\n",
       "      <td>NaN</td>\n",
       "      <td>23.880000</td>\n",
       "    </tr>\n",
       "    <tr>\n",
       "      <th>50%</th>\n",
       "      <td>53.000000</td>\n",
       "      <td>NaN</td>\n",
       "      <td>165.000000</td>\n",
       "      <td>72.000000</td>\n",
       "      <td>120.000000</td>\n",
       "      <td>80.000000</td>\n",
       "      <td>NaN</td>\n",
       "      <td>NaN</td>\n",
       "      <td>NaN</td>\n",
       "      <td>NaN</td>\n",
       "      <td>NaN</td>\n",
       "      <td>NaN</td>\n",
       "      <td>26.375000</td>\n",
       "    </tr>\n",
       "    <tr>\n",
       "      <th>75%</th>\n",
       "      <td>58.000000</td>\n",
       "      <td>NaN</td>\n",
       "      <td>170.000000</td>\n",
       "      <td>82.000000</td>\n",
       "      <td>140.000000</td>\n",
       "      <td>90.000000</td>\n",
       "      <td>NaN</td>\n",
       "      <td>NaN</td>\n",
       "      <td>NaN</td>\n",
       "      <td>NaN</td>\n",
       "      <td>NaN</td>\n",
       "      <td>NaN</td>\n",
       "      <td>30.220000</td>\n",
       "    </tr>\n",
       "    <tr>\n",
       "      <th>max</th>\n",
       "      <td>64.000000</td>\n",
       "      <td>NaN</td>\n",
       "      <td>250.000000</td>\n",
       "      <td>200.000000</td>\n",
       "      <td>16020.000000</td>\n",
       "      <td>11000.000000</td>\n",
       "      <td>NaN</td>\n",
       "      <td>NaN</td>\n",
       "      <td>NaN</td>\n",
       "      <td>NaN</td>\n",
       "      <td>NaN</td>\n",
       "      <td>NaN</td>\n",
       "      <td>298.670000</td>\n",
       "    </tr>\n",
       "  </tbody>\n",
       "</table>\n",
       "</div>"
      ],
      "text/plain": [
       "                 age  gender        height        weight         ap_hi  \\\n",
       "count   70000.000000   70000  70000.000000  70000.000000  70000.000000   \n",
       "unique           NaN       2           NaN           NaN           NaN   \n",
       "top              NaN  Female           NaN           NaN           NaN   \n",
       "freq             NaN   45530           NaN           NaN           NaN   \n",
       "mean       52.840671     NaN    164.359229     74.205690    128.817286   \n",
       "std         6.766774     NaN      8.210126     14.395757    154.011419   \n",
       "min        29.000000     NaN     55.000000     10.000000   -150.000000   \n",
       "25%        48.000000     NaN    159.000000     65.000000    120.000000   \n",
       "50%        53.000000     NaN    165.000000     72.000000    120.000000   \n",
       "75%        58.000000     NaN    170.000000     82.000000    140.000000   \n",
       "max        64.000000     NaN    250.000000    200.000000  16020.000000   \n",
       "\n",
       "               ap_lo cholesterol   gluc  smoke   alco active cardio  \\\n",
       "count   70000.000000       70000  70000  70000  70000  70000  70000   \n",
       "unique           NaN           3      3      2      2      2      2   \n",
       "top              NaN           1      1      0      0      1      0   \n",
       "freq             NaN       52385  59479  63831  66236  56261  35021   \n",
       "mean       96.630414         NaN    NaN    NaN    NaN    NaN    NaN   \n",
       "std       188.472530         NaN    NaN    NaN    NaN    NaN    NaN   \n",
       "min       -70.000000         NaN    NaN    NaN    NaN    NaN    NaN   \n",
       "25%        80.000000         NaN    NaN    NaN    NaN    NaN    NaN   \n",
       "50%        80.000000         NaN    NaN    NaN    NaN    NaN    NaN   \n",
       "75%        90.000000         NaN    NaN    NaN    NaN    NaN    NaN   \n",
       "max     11000.000000         NaN    NaN    NaN    NaN    NaN    NaN   \n",
       "\n",
       "                 BMI  \n",
       "count   70000.000000  \n",
       "unique           NaN  \n",
       "top              NaN  \n",
       "freq             NaN  \n",
       "mean       27.556545  \n",
       "std         6.091405  \n",
       "min         3.470000  \n",
       "25%        23.880000  \n",
       "50%        26.375000  \n",
       "75%        30.220000  \n",
       "max       298.670000  "
      ]
     },
     "execution_count": 10,
     "metadata": {},
     "output_type": "execute_result"
    }
   ],
   "source": [
    "df_copy.describe(include='all')"
   ]
  },
  {
   "cell_type": "code",
   "execution_count": 11,
   "metadata": {},
   "outputs": [],
   "source": [
    "import pandas as pd\n",
    "import numpy as np\n",
    "import matplotlib.pyplot as plt\n",
    "%matplotlib inline\n",
    "import seaborn as sns"
   ]
  },
  {
   "cell_type": "markdown",
   "metadata": {},
   "source": [
    "#### 相關係數熱力圖"
   ]
  },
  {
   "cell_type": "code",
   "execution_count": 12,
   "metadata": {},
   "outputs": [
    {
     "data": {
      "image/png": "[encoded data removed]",
      "text/plain": [
       "<Figure size 792x792 with 2 Axes>"
      ]
     },
     "metadata": {
      "needs_background": "light"
     },
     "output_type": "display_data"
    }
   ],
   "source": [
    "plt.figure(figsize = (11, 11))\n",
    "sns.heatmap(df.corr(), annot = True, cmap = 'GnBu')\n",
    "plt.savefig('C:/Users/CHARLIE/Desktop/cardio/corrheatmap.png', bbox_inches='tight')\n",
    "plt.show()"
   ]
  },
  {
   "cell_type": "markdown",
   "metadata": {},
   "source": [
    "#### GENDER / CARDIO"
   ]
  },
  {
   "cell_type": "code",
   "execution_count": 30,
   "metadata": {},
   "outputs": [
    {
     "data": {
      "image/png": "[encoded data removed]",
      "text/plain": [
       "<Figure size 432x288 with 1 Axes>"
      ]
     },
     "metadata": {},
     "output_type": "display_data"
    }
   ],
   "source": [
    "# 設置中文字體\n",
    "plt.rcParams['font.sans-serif'] = ['Microsoft JhengHei'] # 微軟正黑體\n",
    "plt.rcParams['axes.unicode_minus'] = False  # 負號'-'顯示為方塊\n",
    "plt.rcParams.update({'font.size': 11})  # 全局字體大小設置\n",
    "fig = plt.figure(facecolor='lightgrey')\n",
    "\n",
    "counts = df_copy.groupby(['gender', 'cardio']).size().unstack(fill_value = 0)\n",
    "\n",
    "# sns.hls_palette(n_colors=6, h=0.01, l=0.6, s=0.65, as_cmap=False)\n",
    "sns.set_palette(sns.color_palette(['orange', 'skyblue']))\n",
    "counts.plot(kind='bar', stacked = True, width = 0.95, ax=fig.add_subplot(111))\n",
    "\n",
    "\n",
    "for i, category in enumerate(counts.index):\n",
    "    total_count = counts.loc[category].sum()\n",
    "    bottom = 0\n",
    "    for j, col_label in enumerate(counts.columns):\n",
    "        count = counts.loc[category, col_label]\n",
    "        plt.text(i, bottom + count/2, str(count), ha='center', color='black')\n",
    "        bottom += count\n",
    "\n",
    "\n",
    "\n",
    "# plt.title('')\n",
    "plt.xlabel('性別(gender)', fontsize = 13)\n",
    "plt.ylabel('計數(Count)', fontsize = 13)\n",
    "\n",
    "plt.xticks(fontsize=10)\n",
    "plt.yticks(fontsize=10)\n",
    "\n",
    "plt.savefig('C:/Users/CHARLIE/Desktop/cardio/stacked_bar_chart.png', bbox_inches='tight')  # 指定保存的文件名和格式，bbox_inches='tight'用於避免裁切圖片邊緣\n",
    "# 顯示圖表\n",
    "plt.show()\n"
   ]
  },
  {
   "cell_type": "markdown",
   "metadata": {},
   "source": [
    "#### CHOLESTEROL / CARDIO"
   ]
  },
  {
   "cell_type": "code",
   "execution_count": 13,
   "metadata": {},
   "outputs": [
    {
     "data": {
      "image/png": "[encoded data removed]",
      "text/plain": [
       "<Figure size 432x288 with 1 Axes>"
      ]
     },
     "metadata": {},
     "output_type": "display_data"
    }
   ],
   "source": [
    "plt.rcParams['font.sans-serif'] = ['Microsoft JhengHei']\n",
    "plt.rcParams['axes.unicode_minus'] = False\n",
    "plt.rcParams.update({'font.size': 9})\n",
    "fig = plt.figure(facecolor='lightgrey')\n",
    "\n",
    "counts = df_copy.groupby(['cholesterol', 'cardio']).size().unstack(fill_value = 0)\n",
    "\n",
    "sns.set_palette(sns.color_palette(['orange', 'skyblue']))\n",
    "counts.plot(kind='bar', stacked = True, width = 0.95, ax=fig.add_subplot(111))\n",
    "\n",
    "\n",
    "for i, category in enumerate(counts.index):\n",
    "    total_count = counts.loc[category].sum()\n",
    "    bottom = 0\n",
    "    for j, col_label in enumerate(counts.columns):\n",
    "        count = counts.loc[category, col_label]\n",
    "        plt.text(i, bottom + count/2, str(count), ha='center', color='black')\n",
    "        bottom += count\n",
    "\n",
    "\n",
    "plt.xlabel('膽固醇(cholesterol)', fontsize = 13)\n",
    "plt.ylabel('計數(Count)', fontsize = 13)\n",
    "\n",
    "plt.xticks(fontsize=10)\n",
    "plt.yticks(fontsize=10)\n",
    "\n",
    "plt.savefig('C:/Users/CHARLIE/Desktop/cardio/chole&cardio.png', bbox_inches='tight')\n",
    "\n",
    "plt.show()\n"
   ]
  },
  {
   "cell_type": "markdown",
   "metadata": {},
   "source": [
    "#### GLUC / CARDIO"
   ]
  },
  {
   "cell_type": "code",
   "execution_count": 40,
   "metadata": {},
   "outputs": [
    {
     "data": {
      "image/png": "[encoded data removed]",
      "text/plain": [
       "<Figure size 432x288 with 1 Axes>"
      ]
     },
     "metadata": {},
     "output_type": "display_data"
    }
   ],
   "source": [
    "plt.rcParams['font.sans-serif'] = ['Microsoft JhengHei']\n",
    "plt.rcParams['axes.unicode_minus'] = False\n",
    "plt.rcParams.update({'font.size': 9})\n",
    "fig = plt.figure(facecolor='lightgrey')\n",
    "\n",
    "counts = df_copy.groupby(['gluc', 'cardio']).size().unstack(fill_value = 0)\n",
    "\n",
    "sns.set_palette(sns.color_palette(['orange', 'skyblue']))\n",
    "counts.plot(kind='bar', stacked = True, width = 0.95, ax=fig.add_subplot(111))\n",
    "\n",
    "\n",
    "for i, category in enumerate(counts.index):\n",
    "    total_count = counts.loc[category].sum()\n",
    "    bottom = 0\n",
    "    for j, col_label in enumerate(counts.columns):\n",
    "        count = counts.loc[category, col_label]\n",
    "        plt.text(i, bottom + count/2, str(count), ha='center', color='black')\n",
    "        bottom += count\n",
    "\n",
    "\n",
    "plt.xlabel('葡萄糖(glucose)', fontsize = 13)\n",
    "plt.ylabel('計數(Count)', fontsize = 13)\n",
    "\n",
    "plt.xticks(fontsize=10)\n",
    "plt.yticks(fontsize=10)\n",
    "\n",
    "plt.savefig('C:/Users/CHARLIE/Desktop/cardio/gluc&cardio.png', bbox_inches='tight')\n",
    "\n",
    "plt.show()\n"
   ]
  },
  {
   "cell_type": "markdown",
   "metadata": {},
   "source": [
    "#### SMOKE / CARDIO"
   ]
  },
  {
   "cell_type": "code",
   "execution_count": 41,
   "metadata": {},
   "outputs": [
    {
     "data": {
      "image/png": "[encoded data removed]",
      "text/plain": [
       "<Figure size 432x288 with 1 Axes>"
      ]
     },
     "metadata": {},
     "output_type": "display_data"
    }
   ],
   "source": [
    "plt.rcParams['font.sans-serif'] = ['Microsoft JhengHei']\n",
    "plt.rcParams['axes.unicode_minus'] = False\n",
    "plt.rcParams.update({'font.size': 9})\n",
    "fig = plt.figure(facecolor='lightgrey')\n",
    "\n",
    "counts = df_copy.groupby(['smoke', 'cardio']).size().unstack(fill_value = 0)\n",
    "\n",
    "sns.set_palette(sns.color_palette(['orange', 'skyblue']))\n",
    "counts.plot(kind='bar', stacked = True, width = 0.95, ax=fig.add_subplot(111))\n",
    "\n",
    "\n",
    "for i, category in enumerate(counts.index):\n",
    "    total_count = counts.loc[category].sum()\n",
    "    bottom = 0\n",
    "    for j, col_label in enumerate(counts.columns):\n",
    "        count = counts.loc[category, col_label]\n",
    "        plt.text(i, bottom + count/2, str(count), ha='center', color='black')\n",
    "        bottom += count\n",
    "\n",
    "\n",
    "plt.xlabel('是否抽菸(smoke)', fontsize = 13)\n",
    "plt.ylabel('計數(Count)', fontsize = 13)\n",
    "\n",
    "plt.xticks(fontsize=10)\n",
    "plt.yticks(fontsize=10)\n",
    "\n",
    "plt.savefig('C:/Users/CHARLIE/Desktop/cardio/smoke&cardio.png', bbox_inches='tight')\n",
    "\n",
    "plt.show()\n"
   ]
  },
  {
   "cell_type": "markdown",
   "metadata": {},
   "source": [
    "#### ALCO / CARDIO"
   ]
  },
  {
   "cell_type": "code",
   "execution_count": 43,
   "metadata": {},
   "outputs": [
    {
     "data": {
      "image/png": "[encoded data removed]",
      "text/plain": [
       "<Figure size 432x288 with 1 Axes>"
      ]
     },
     "metadata": {},
     "output_type": "display_data"
    }
   ],
   "source": [
    "plt.rcParams['font.sans-serif'] = ['Microsoft JhengHei']\n",
    "plt.rcParams['axes.unicode_minus'] = False\n",
    "plt.rcParams.update({'font.size': 9})\n",
    "fig = plt.figure(facecolor='lightgrey')\n",
    "\n",
    "counts = df_copy.groupby(['alco', 'cardio']).size().unstack(fill_value = 0)\n",
    "\n",
    "sns.set_palette(sns.color_palette(['orange', 'skyblue']))\n",
    "counts.plot(kind='bar', stacked = True, width = 0.95, ax=fig.add_subplot(111))\n",
    "\n",
    "\n",
    "for i, category in enumerate(counts.index):\n",
    "    total_count = counts.loc[category].sum()\n",
    "    bottom = 0\n",
    "    for j, col_label in enumerate(counts.columns):\n",
    "        count = counts.loc[category, col_label]\n",
    "        plt.text(i, bottom + count/2, str(count), ha='center', color='black')\n",
    "        bottom += count\n",
    "\n",
    "\n",
    "plt.xlabel('是否喝酒(alco)', fontsize = 13)\n",
    "plt.ylabel('計數(Count)', fontsize = 13)\n",
    "\n",
    "plt.xticks(fontsize=10)\n",
    "plt.yticks(fontsize=10)\n",
    "\n",
    "plt.savefig('C:/Users/CHARLIE/Desktop/cardio/alco&cardio.png', bbox_inches='tight')\n",
    "\n",
    "plt.show()\n"
   ]
  },
  {
   "cell_type": "markdown",
   "metadata": {},
   "source": [
    "#### ACTIVE / CARDIO"
   ]
  },
  {
   "cell_type": "code",
   "execution_count": 45,
   "metadata": {},
   "outputs": [
    {
     "data": {
      "image/png": "[encoded data removed]",
      "text/plain": [
       "<Figure size 432x288 with 1 Axes>"
      ]
     },
     "metadata": {},
     "output_type": "display_data"
    }
   ],
   "source": [
    "plt.rcParams['font.sans-serif'] = ['Microsoft JhengHei']\n",
    "plt.rcParams['axes.unicode_minus'] = False\n",
    "plt.rcParams.update({'font.size': 9})\n",
    "fig = plt.figure(facecolor='lightgrey')\n",
    "\n",
    "counts = df_copy.groupby(['active', 'cardio']).size().unstack(fill_value = 0)\n",
    "\n",
    "sns.set_palette(sns.color_palette(['orange', 'skyblue']))\n",
    "counts.plot(kind='bar', stacked = True, width = 0.95, ax=fig.add_subplot(111))\n",
    "\n",
    "\n",
    "for i, category in enumerate(counts.index):\n",
    "    total_count = counts.loc[category].sum()\n",
    "    bottom = 0\n",
    "    for j, col_label in enumerate(counts.columns):\n",
    "        count = counts.loc[category, col_label]\n",
    "        plt.text(i, bottom + count/2, str(count), ha='center', color='black')\n",
    "        bottom += count\n",
    "\n",
    "\n",
    "plt.xlabel('體能運動(active)', fontsize = 13)\n",
    "plt.ylabel('計數(Count)', fontsize = 13)\n",
    "\n",
    "plt.xticks(fontsize=10)\n",
    "plt.yticks(fontsize=10)\n",
    "\n",
    "plt.savefig('C:/Users/CHARLIE/Desktop/cardio/active&cardio.png', bbox_inches='tight')\n",
    "\n",
    "plt.show()\n"
   ]
  },
  {
   "cell_type": "markdown",
   "metadata": {},
   "source": [
    "#### 年齡直方圖"
   ]
  },
  {
   "cell_type": "code",
   "execution_count": 14,
   "metadata": {},
   "outputs": [
    {
     "data": {
      "image/png": "[encoded data removed]",
      "text/plain": [
       "<Figure size 432x288 with 1 Axes>"
      ]
     },
     "metadata": {
      "needs_background": "light"
     },
     "output_type": "display_data"
    }
   ],
   "source": [
    "plt.rcParams.update({'font.size': 11})\n",
    "\n",
    "min_value = np.min(df_copy['age'])\n",
    "max_value = np.max(df_copy['age'])\n",
    "\n",
    "sns.histplot(df_copy['age'], stat = 'density', kde = False, color = 'Cyan')\n",
    "sns.kdeplot(df['age'], fill = True, color = 'red')\n",
    "plt.xlabel('年齡(age)')\n",
    "\n",
    "plt.axvline(x = min_value, color = 'black', linestyle = '--', linewidth = 1.5)  # 添加垂直线标示最小值\n",
    "plt.axvline(x = max_value, color = 'black', linestyle = '--', linewidth = 1.5)  # 添加垂直线标示最大值\n",
    "\n",
    "plt.text(min_value + 0.5, plt.ylim()[1]*0.88, f'Min: {min_value}', fontsize=13, color='red', ha='left')\n",
    "plt.text(max_value - 0.5, plt.ylim()[1]*0.88, f'Max: {max_value}', fontsize=13, color='red', ha='right')\n",
    "\n",
    "plt.grid(True)\n",
    "plt.savefig('C:/Users/CHARLIE/Desktop/cardio/age_hist.png', bbox_inches='tight')\n",
    "plt.show()"
   ]
  },
  {
   "cell_type": "markdown",
   "metadata": {},
   "source": [
    "## 訓練模型"
   ]
  },
  {
   "cell_type": "code",
   "execution_count": 25,
   "metadata": {},
   "outputs": [],
   "source": [
    "from sklearn.model_selection import  cross_val_score\n",
    "from sklearn.experimental import enable_halving_search_cv\n",
    "# now you can import normally from model_selection\n",
    "from sklearn.model_selection import HalvingGridSearchCV\n",
    "from sklearn.metrics import accuracy_score, recall_score, precision_score, f1_score, roc_auc_score\n",
    "# from sklearn.base import clone\n",
    "\n",
    "from sklearn.model_selection import train_test_split\n",
    "from sklearn.preprocessing import StandardScaler\n",
    "from sklearn.linear_model import LogisticRegression\n",
    "from sklearn.metrics import confusion_matrix, accuracy_score, ConfusionMatrixDisplay\n",
    "from sklearn import metrics"
   ]
  },
  {
   "cell_type": "code",
   "execution_count": 21,
   "metadata": {},
   "outputs": [],
   "source": [
    "X=df.drop(['cardio'], axis=1)\n",
    "y=df['cardio']\n",
    "\n",
    "#def f1_metric(model, X_train, y_train):\n",
    "#        return f1_score(y_train, model.predict(X_train), average='binary')\n",
    "\n",
    "# def plotFeatureimportance(model, X_train, y_train):\n",
    "    # Call drop-column feature importance function\n",
    "#    df_drop_column = Featureimportance(model, X_train, y_train, random_state=0)\n",
    "    # Rename columns\n",
    "#    df_drop_column.columns = ['Feature', 'Feature Importance']\n",
    "\n",
    "    # Plot barchart\n",
    "#    plt.figure(figsize=(12,10))\n",
    "#    sns.barplot(data=df_drop_column, x='Feature Importance', y='Feature', orient='h',\n",
    "#                              color=\"white\",\n",
    "#                              hatch='//',\n",
    "#                              edgecolor=\"darkred\",\n",
    "#                              ecolor=\"black\",\n",
    "#                              linewidth=0.6,)\n",
    "\n",
    "\n",
    "#    plt.xlabel(\"Feature Importance\", size=16)\n",
    "#    plt.ylabel(\"Feature\", size=16)\n",
    "#    plt.title(' Feature Importance', fontsize=20)\n",
    "#    plt.show()"
   ]
  },
  {
   "cell_type": "code",
   "execution_count": 22,
   "metadata": {},
   "outputs": [
    {
     "data": {
      "text/html": [
       "<style>#sk-container-id-1 {color: black;background-color: white;}#sk-container-id-1 pre{padding: 0;}#sk-container-id-1 div.sk-toggleable {background-color: white;}#sk-container-id-1 label.sk-toggleable__label {cursor: pointer;display: block;width: 100%;margin-bottom: 0;padding: 0.3em;box-sizing: border-box;text-align: center;}#sk-container-id-1 label.sk-toggleable__label-arrow:before {content: \"▸\";float: left;margin-right: 0.25em;color: #696969;}#sk-container-id-1 label.sk-toggleable__label-arrow:hover:before {color: black;}#sk-container-id-1 div.sk-estimator:hover label.sk-toggleable__label-arrow:before {color: black;}#sk-container-id-1 div.sk-toggleable__content {max-height: 0;max-width: 0;overflow: hidden;text-align: left;background-color: #f0f8ff;}#sk-container-id-1 div.sk-toggleable__content pre {margin: 0.2em;color: black;border-radius: 0.25em;background-color: #f0f8ff;}#sk-container-id-1 input.sk-toggleable__control:checked~div.sk-toggleable__content {max-height: 200px;max-width: 100%;overflow: auto;}#sk-container-id-1 input.sk-toggleable__control:checked~label.sk-toggleable__label-arrow:before {content: \"▾\";}#sk-container-id-1 div.sk-estimator input.sk-toggleable__control:checked~label.sk-toggleable__label {background-color: #d4ebff;}#sk-container-id-1 div.sk-label input.sk-toggleable__control:checked~label.sk-toggleable__label {background-color: #d4ebff;}#sk-container-id-1 input.sk-hidden--visually {border: 0;clip: rect(1px 1px 1px 1px);clip: rect(1px, 1px, 1px, 1px);height: 1px;margin: -1px;overflow: hidden;padding: 0;position: absolute;width: 1px;}#sk-container-id-1 div.sk-estimator {font-family: monospace;background-color: #f0f8ff;border: 1px dotted black;border-radius: 0.25em;box-sizing: border-box;margin-bottom: 0.5em;}#sk-container-id-1 div.sk-estimator:hover {background-color: #d4ebff;}#sk-container-id-1 div.sk-parallel-item::after {content: \"\";width: 100%;border-bottom: 1px solid gray;flex-grow: 1;}#sk-container-id-1 div.sk-label:hover label.sk-toggleable__label {background-color: #d4ebff;}#sk-container-id-1 div.sk-serial::before {content: \"\";position: absolute;border-left: 1px solid gray;box-sizing: border-box;top: 0;bottom: 0;left: 50%;z-index: 0;}#sk-container-id-1 div.sk-serial {display: flex;flex-direction: column;align-items: center;background-color: white;padding-right: 0.2em;padding-left: 0.2em;position: relative;}#sk-container-id-1 div.sk-item {position: relative;z-index: 1;}#sk-container-id-1 div.sk-parallel {display: flex;align-items: stretch;justify-content: center;background-color: white;position: relative;}#sk-container-id-1 div.sk-item::before, #sk-container-id-1 div.sk-parallel-item::before {content: \"\";position: absolute;border-left: 1px solid gray;box-sizing: border-box;top: 0;bottom: 0;left: 50%;z-index: -1;}#sk-container-id-1 div.sk-parallel-item {display: flex;flex-direction: column;z-index: 1;position: relative;background-color: white;}#sk-container-id-1 div.sk-parallel-item:first-child::after {align-self: flex-end;width: 50%;}#sk-container-id-1 div.sk-parallel-item:last-child::after {align-self: flex-start;width: 50%;}#sk-container-id-1 div.sk-parallel-item:only-child::after {width: 0;}#sk-container-id-1 div.sk-dashed-wrapped {border: 1px dashed gray;margin: 0 0.4em 0.5em 0.4em;box-sizing: border-box;padding-bottom: 0.4em;background-color: white;}#sk-container-id-1 div.sk-label label {font-family: monospace;font-weight: bold;display: inline-block;line-height: 1.2em;}#sk-container-id-1 div.sk-label-container {text-align: center;}#sk-container-id-1 div.sk-container {/* jupyter's `normalize.less` sets `[hidden] { display: none; }` but bootstrap.min.css set `[hidden] { display: none !important; }` so we also need the `!important` here to be able to override the default hidden behavior on the sphinx rendered scikit-learn.org. See: https://github.com/scikit-learn/scikit-learn/issues/21755 */display: inline-block !important;position: relative;}#sk-container-id-1 div.sk-text-repr-fallback {display: none;}</style><div id=\"sk-container-id-1\" class=\"sk-top-container\"><div class=\"sk-text-repr-fallback\"><pre>StandardScaler()</pre><b>In a Jupyter environment, please rerun this cell to show the HTML representation or trust the notebook. <br />On GitHub, the HTML representation is unable to render, please try loading this page with nbviewer.org.</b></div><div class=\"sk-container\" hidden><div class=\"sk-item\"><div class=\"sk-estimator sk-toggleable\"><input class=\"sk-toggleable__control sk-hidden--visually\" id=\"sk-estimator-id-1\" type=\"checkbox\" checked><label for=\"sk-estimator-id-1\" class=\"sk-toggleable__label sk-toggleable__label-arrow\">StandardScaler</label><div class=\"sk-toggleable__content\"><pre>StandardScaler()</pre></div></div></div></div></div>"
      ],
      "text/plain": [
       "StandardScaler()"
      ]
     },
     "execution_count": 22,
     "metadata": {},
     "output_type": "execute_result"
    }
   ],
   "source": [
    "x_train, x_test, y_train, y_test=train_test_split(X,y,test_size=0.35)\n",
    "scaler= StandardScaler()\n",
    "scaler.fit(x_train)\n",
    "\n",
    "X_train_scaled = scaler.transform(x_train)\n",
    "X_test_scaled = scaler.transform(x_test)"
   ]
  },
  {
   "cell_type": "code",
   "execution_count": 40,
   "metadata": {},
   "outputs": [
    {
     "name": "stdout",
     "output_type": "stream",
     "text": [
      "[[9318 2956]\n",
      " [3924 8302]]\n",
      "Accuracy: 71.92 %\n"
     ]
    },
    {
     "data": {
      "image/png": "[encoded data removed]",
      "text/plain": [
       "<Figure size 432x288 with 2 Axes>"
      ]
     },
     "metadata": {
      "needs_background": "light"
     },
     "output_type": "display_data"
    },
    {
     "name": "stdout",
     "output_type": "stream",
     "text": [
      "[0.71671429 0.71328571 0.72342857 0.72857143 0.717      0.72214286\n",
      " 0.72428571 0.73028571 0.71842857 0.71585714]\n",
      "Accuracy: 72.10 %\n",
      "Standard Deviation: 0.54 %\n",
      "Precision: 74.16 %\n",
      "Recall: 67.78 %\n",
      "F1: 70.83 %\n"
     ]
    }
   ],
   "source": [
    "model_lr = LogisticRegression(random_state = 0)\n",
    "model_lr.fit(X_train_scaled, y_train.astype('int'))\n",
    "\n",
    "y_pred_lr = model_lr.predict(X_test_scaled)\n",
    "cm = metrics.confusion_matrix(y_test, y_pred_lr.astype('int'))\n",
    "print(cm)\n",
    "print(\"Accuracy: {:.2f} %\".format(accuracy_score(y_test.astype('int'), y_pred_lr.astype('int'))*100))\n",
    "disp = ConfusionMatrixDisplay(confusion_matrix=cm, display_labels = [False, True])\n",
    "disp.plot()\n",
    "plt.title(\"LogisticRegression\")\n",
    "plt.show()\n",
    "\n",
    "# Applying k-Fold Cross Validation\n",
    "from sklearn.model_selection import cross_val_score\n",
    "cv_accuracy_0 = cross_val_score(estimator = model_lr, X = scaler.fit_transform(X), y = y, cv = 10)\n",
    "cv_precision_0 = cross_val_score(estimator = model_lr, X = scaler.fit_transform(X), y = y, cv = 10, scoring='precision')\n",
    "cv_recall_0 = cross_val_score(estimator = model_lr, X = scaler.fit_transform(X), y = y, cv = 10, scoring='recall')\n",
    "cv_f1_0 = cross_val_score(estimator = model_lr, X = scaler.fit_transform(X), y = y, cv = 10, scoring='f1')\n",
    "print(cv_accuracy_0)\n",
    "print('Accuracy: {:.2f} %'.format(cv_accuracy_0.mean()*100))\n",
    "print('Standard Deviation: {:.2f} %'.format(cv_accuracy_0.std()*100))\n",
    "print('Precision: {:.2f} %'.format(cv_precision_0.mean()*100))\n",
    "print('Recall: {:.2f} %'.format(cv_recall_0.mean()*100))\n",
    "print('F1: {:.2f} %'.format(cv_f1_0.mean()*100))"
   ]
  },
  {
   "cell_type": "code",
   "execution_count": 28,
   "metadata": {},
   "outputs": [
    {
     "name": "stdout",
     "output_type": "stream",
     "text": [
      "n_iterations: 5\n",
      "n_required_iterations: 6\n",
      "n_possible_iterations: 5\n",
      "min_resources_: 187\n",
      "max_resources_: 45500\n",
      "aggressive_elimination: False\n",
      "factor: 3\n",
      "----------\n",
      "iter: 0\n",
      "n_candidates: 324\n",
      "n_resources: 187\n",
      "Fitting 5 folds for each of 324 candidates, totalling 1620 fits\n",
      "----------\n",
      "iter: 1\n",
      "n_candidates: 108\n",
      "n_resources: 561\n",
      "Fitting 5 folds for each of 108 candidates, totalling 540 fits\n",
      "----------\n",
      "iter: 2\n",
      "n_candidates: 36\n",
      "n_resources: 1683\n",
      "Fitting 5 folds for each of 36 candidates, totalling 180 fits\n",
      "----------\n",
      "iter: 3\n",
      "n_candidates: 12\n",
      "n_resources: 5049\n",
      "Fitting 5 folds for each of 12 candidates, totalling 60 fits\n",
      "----------\n",
      "iter: 4\n",
      "n_candidates: 4\n",
      "n_resources: 15147\n",
      "Fitting 5 folds for each of 4 candidates, totalling 20 fits\n",
      "tuned hpyerparameters :(best parameters)  {'class_weight': 'balanced', 'max_depth': 12, 'max_features': 'log2', 'min_samples_leaf': 6, 'min_samples_split': 9, 'n_estimators': 150}\n",
      "f1 score : 0.7219179104867931\n"
     ]
    }
   ],
   "source": [
    "from sklearn.ensemble import RandomForestClassifier\n",
    "model_rf = RandomForestClassifier()\n",
    "\n",
    "\n",
    "# class_weight:['balanced']\n",
    "grid = {'n_estimators': [50, 100, 150], 'max_features': ['sqrt', 'log2', None], \n",
    "\t\t\t\t'max_depth': [3, 6, 9, 12], 'min_samples_split': [3, 6, 9],'min_samples_leaf': [3, 6, 9], 'class_weight': ['balanced']}\n",
    "# class_weight:\n",
    "\n",
    "model_grid = HalvingGridSearchCV(model_rf, grid, factor=3, random_state=42, verbose=1,\n",
    "                                         scoring='f1',return_train_score=True)\n",
    "model_grid.fit(X_train_scaled,y_train)\n",
    "print(\"tuned hpyerparameters :(best parameters) \", model_grid.best_params_)\n",
    "print(\"f1 score :\", model_grid.best_score_)"
   ]
  },
  {
   "cell_type": "code",
   "execution_count": 41,
   "metadata": {},
   "outputs": [
    {
     "name": "stdout",
     "output_type": "stream",
     "text": [
      "[[8784 3490]\n",
      " [3603 8623]]\n",
      "Accuracy: 71.05 %\n"
     ]
    },
    {
     "data": {
      "image/png": "[encoded data removed]",
      "text/plain": [
       "<Figure size 432x288 with 2 Axes>"
      ]
     },
     "metadata": {
      "needs_background": "light"
     },
     "output_type": "display_data"
    },
    {
     "name": "stdout",
     "output_type": "stream",
     "text": [
      "[0.71671429 0.71328571 0.72342857 0.72857143 0.717      0.72214286\n",
      " 0.72428571 0.73028571 0.71842857 0.71585714]\n",
      "Accuracy: 71.09 %\n",
      "Standard Deviation: 0.68 %\n",
      "Precision: 71.51 %\n",
      "Recall: 70.24 %\n",
      "F1: 70.82 %\n"
     ]
    }
   ],
   "source": [
    "model_rf = RandomForestClassifier()\n",
    "model_rf.fit(X_train_scaled, y_train)\n",
    "y_pred_rf = model_rf.predict(X_test_scaled)\n",
    "cm = confusion_matrix(y_test, y_pred_rf.astype('int'))\n",
    "print(cm)\n",
    "\n",
    "print(\"Accuracy: {:.2f} %\".format(accuracy_score(y_test, y_pred_rf.astype('int'))*100))\n",
    "disp = ConfusionMatrixDisplay(confusion_matrix=cm, display_labels = [False, True])\n",
    "disp.plot()\n",
    "plt.title(\"RandomForest\")\n",
    "plt.show()\n",
    "\n",
    "cv_accuracy_1 = cross_val_score(estimator = model_rf, X = scaler.fit_transform(X), y = y, cv = 10)\n",
    "cv_precision_1 = cross_val_score(estimator = model_rf, X = scaler.fit_transform(X), y = y, cv = 10, scoring='precision')\n",
    "cv_recall_1 = cross_val_score(estimator = model_rf, X = scaler.fit_transform(X), y = y, cv = 10, scoring='recall')\n",
    "cv_f1_1 = cross_val_score(estimator = model_rf, X = scaler.fit_transform(X), y = y, cv = 10, scoring='f1')\n",
    "print(cv_accuracy_0)\n",
    "print('Accuracy: {:.2f} %'.format(cv_accuracy_1.mean()*100))\n",
    "print('Standard Deviation: {:.2f} %'.format(cv_accuracy_1.std()*100))\n",
    "print('Precision: {:.2f} %'.format(cv_precision_1.mean()*100))\n",
    "print('Recall: {:.2f} %'.format(cv_recall_1.mean()*100))\n",
    "print('F1: {:.2f} %'.format(cv_f1_1.mean()*100))"
   ]
  },
  {
   "cell_type": "code",
   "execution_count": 42,
   "metadata": {},
   "outputs": [
    {
     "name": "stdout",
     "output_type": "stream",
     "text": [
      "[[9528 2746]\n",
      " [3794 8432]]\n",
      "Accuracy: 73.31 %\n"
     ]
    },
    {
     "data": {
      "image/png": "[encoded data removed]",
      "text/plain": [
       "<Figure size 432x288 with 2 Axes>"
      ]
     },
     "metadata": {
      "needs_background": "light"
     },
     "output_type": "display_data"
    },
    {
     "name": "stdout",
     "output_type": "stream",
     "text": [
      "[0.71671429 0.71328571 0.72342857 0.72857143 0.717      0.72214286\n",
      " 0.72428571 0.73028571 0.71842857 0.71585714]\n",
      "Accuracy: 73.56 %\n",
      "Standard Deviation: 0.39 %\n",
      "Precision: 75.92 %\n",
      "Recall: 69.13 %\n",
      "F1: 72.40 %\n"
     ]
    }
   ],
   "source": [
    "model_grid = RandomForestClassifier(class_weight = 'balanced', max_depth = 12, max_features = 'log2', min_samples_leaf = 6, min_samples_split = 9, n_estimators = 150)\n",
    "model_grid.fit(X_train_scaled, y_train)\n",
    "y_pred_rf = model_grid.predict(X_test_scaled)\n",
    "cm = confusion_matrix(y_test, y_pred_rf.astype('int'))\n",
    "print(cm)\n",
    "\n",
    "print(\"Accuracy: {:.2f} %\".format(accuracy_score(y_test, y_pred_rf.astype('int'))*100))\n",
    "disp = ConfusionMatrixDisplay(confusion_matrix=cm, display_labels = [False, True])\n",
    "disp.plot()\n",
    "plt.title(\"RandomForest (HalvingGridSearch)\")\n",
    "plt.show()\n",
    "\n",
    "cv_accuracy_2 = cross_val_score(estimator = model_grid, X = scaler.fit_transform(X), y = y, cv = 10)\n",
    "cv_precision_2 = cross_val_score(estimator = model_grid, X = scaler.fit_transform(X), y = y, cv = 10, scoring='precision')\n",
    "cv_recall_2 = cross_val_score(estimator = model_grid, X = scaler.fit_transform(X), y = y, cv = 10, scoring='recall')\n",
    "cv_f1_2 = cross_val_score(estimator = model_grid, X = scaler.fit_transform(X), y = y, cv = 10, scoring='f1')\n",
    "print(cv_accuracy_0)\n",
    "print('Accuracy: {:.2f} %'.format(cv_accuracy_2.mean()*100))\n",
    "print('Standard Deviation: {:.2f} %'.format(cv_accuracy_2.std()*100))\n",
    "print('Precision: {:.2f} %'.format(cv_precision_2.mean()*100))\n",
    "print('Recall: {:.2f} %'.format(cv_recall_2.mean()*100))\n",
    "print('F1: {:.2f} %'.format(cv_f1_2.mean()*100))"
   ]
  },
  {
   "cell_type": "code",
   "execution_count": 43,
   "metadata": {},
   "outputs": [
    {
     "name": "stdout",
     "output_type": "stream",
     "text": [
      "[[9528 2746]\n",
      " [3794 8432]]\n",
      "Accuracy: 72.96 %\n"
     ]
    },
    {
     "data": {
      "image/png": "[encoded data removed]",
      "text/plain": [
       "<Figure size 432x288 with 2 Axes>"
      ]
     },
     "metadata": {
      "needs_background": "light"
     },
     "output_type": "display_data"
    },
    {
     "name": "stdout",
     "output_type": "stream",
     "text": [
      "[0.71671429 0.71328571 0.72342857 0.72857143 0.717      0.72214286\n",
      " 0.72428571 0.73028571 0.71842857 0.71585714]\n",
      "Accuracy: 73.37 %\n",
      "Standard Deviation: 0.49 %\n",
      "Precision: 75.24 %\n",
      "Recall: 69.61 %\n",
      "F1: 72.31 %\n"
     ]
    }
   ],
   "source": [
    "from xgboost import XGBClassifier\n",
    "\n",
    "model_xg = XGBClassifier()\n",
    "model_xg.fit(X_train_scaled, y_train)\n",
    "y_pred_xg = model_xg.predict(X_test_scaled)\n",
    "cm = confusion_matrix(y_test, y_pred_rf.astype('int'))\n",
    "print(cm)\n",
    "\n",
    "print(\"Accuracy: {:.2f} %\".format(accuracy_score(y_test, y_pred_xg.astype('int'))*100))\n",
    "disp = ConfusionMatrixDisplay(confusion_matrix=cm, display_labels = [False, True])\n",
    "disp.plot()\n",
    "plt.title(\"XGBoost\")\n",
    "plt.show()\n",
    "\n",
    "cv_accuracy_3 = cross_val_score(estimator = model_xg, X = scaler.fit_transform(X), y = y, cv = 10)\n",
    "cv_precision_3 = cross_val_score(estimator = model_xg, X = scaler.fit_transform(X), y = y, cv = 10, scoring='precision')\n",
    "cv_recall_3 = cross_val_score(estimator = model_xg, X = scaler.fit_transform(X), y = y, cv = 10, scoring='recall')\n",
    "cv_f1_3 = cross_val_score(estimator = model_xg, X = scaler.fit_transform(X), y = y, cv = 10, scoring='f1')\n",
    "print(cv_accuracy_0)\n",
    "print('Accuracy: {:.2f} %'.format(cv_accuracy_3.mean()*100))\n",
    "print('Standard Deviation: {:.2f} %'.format(cv_accuracy_3.std()*100))\n",
    "print('Precision: {:.2f} %'.format(cv_precision_3.mean()*100))\n",
    "print('Recall: {:.2f} %'.format(cv_recall_3.mean()*100))\n",
    "print('F1: {:.2f} %'.format(cv_f1_3.mean()*100))"
   ]
  },
  {
   "cell_type": "code",
   "execution_count": 37,
   "metadata": {},
   "outputs": [
    {
     "name": "stdout",
     "output_type": "stream",
     "text": [
      "n_iterations: 5\n",
      "n_required_iterations: 6\n",
      "n_possible_iterations: 5\n",
      "min_resources_: 187\n",
      "max_resources_: 45500\n",
      "aggressive_elimination: False\n",
      "factor: 3\n",
      "----------\n",
      "iter: 0\n",
      "n_candidates: 432\n",
      "n_resources: 187\n",
      "Fitting 5 folds for each of 432 candidates, totalling 2160 fits\n",
      "----------\n",
      "iter: 1\n",
      "n_candidates: 144\n",
      "n_resources: 561\n",
      "Fitting 5 folds for each of 144 candidates, totalling 720 fits\n",
      "----------\n",
      "iter: 2\n",
      "n_candidates: 48\n",
      "n_resources: 1683\n",
      "Fitting 5 folds for each of 48 candidates, totalling 240 fits\n",
      "----------\n",
      "iter: 3\n",
      "n_candidates: 16\n",
      "n_resources: 5049\n",
      "Fitting 5 folds for each of 16 candidates, totalling 80 fits\n",
      "----------\n",
      "iter: 4\n",
      "n_candidates: 6\n",
      "n_resources: 15147\n",
      "Fitting 5 folds for each of 6 candidates, totalling 30 fits\n",
      "tuned hpyerparameters :(best parameters)  {'colsample_bytree': 0.5, 'eta': 0.1, 'learning_rate': 0.1, 'max_depth': 3, 'subsample': 0.5}\n",
      "f1 score : 0.7222758897033126\n"
     ]
    }
   ],
   "source": [
    "grid = {'eta': [0.01, 0.05, 0.1, 0.2], 'max_depth': [3, 6, 9, 12], 'subsample': [0, 0.5, 1],'colsample_bytree': [0, 0.5, 1], 'learning_rate': [0.1, 0.3, 0.5]}\n",
    "\n",
    "model_grid = HalvingGridSearchCV(model_xg, grid, factor=3, random_state=42, verbose=1,\n",
    "                                         scoring='f1',return_train_score=True)\n",
    "model_grid.fit(X_train_scaled,y_train)\n",
    "print(\"tuned hpyerparameters :(best parameters) \", model_grid.best_params_)\n",
    "print(\"f1 score :\", model_grid.best_score_)"
   ]
  },
  {
   "cell_type": "code",
   "execution_count": 44,
   "metadata": {},
   "outputs": [
    {
     "name": "stdout",
     "output_type": "stream",
     "text": [
      "[[9528 2746]\n",
      " [3794 8432]]\n",
      "Accuracy: 73.49 %\n"
     ]
    },
    {
     "data": {
      "image/png": "[encoded data removed]",
      "text/plain": [
       "<Figure size 432x288 with 2 Axes>"
      ]
     },
     "metadata": {
      "needs_background": "light"
     },
     "output_type": "display_data"
    },
    {
     "name": "stdout",
     "output_type": "stream",
     "text": [
      "[0.71671429 0.71328571 0.72342857 0.72857143 0.717      0.72214286\n",
      " 0.72428571 0.73028571 0.71842857 0.71585714]\n",
      "Accuracy: 73.59 %\n",
      "Standard Deviation: 0.50 %\n",
      "Precision: 75.95 %\n",
      "Recall: 68.99 %\n",
      "F1: 72.30 %\n"
     ]
    }
   ],
   "source": [
    "model_xg = XGBClassifier(colsample_bytree = 0.5, eta = 0.1, learning_rate = 0.1, max_depth = 3, subsample = 0.5)\n",
    "model_xg.fit(X_train_scaled, y_train)\n",
    "y_pred_xg = model_xg.predict(X_test_scaled)\n",
    "cm = confusion_matrix(y_test, y_pred_rf.astype('int'))\n",
    "print(cm)\n",
    "\n",
    "print(\"Accuracy: {:.2f} %\".format(accuracy_score(y_test, y_pred_xg.astype('int'))*100))\n",
    "disp = ConfusionMatrixDisplay(confusion_matrix=cm, display_labels = [False, True])\n",
    "disp.plot()\n",
    "plt.title(\"XGBoost (HalvingGridSearch)\")\n",
    "plt.show()\n",
    "\n",
    "cv_accuracy_4 = cross_val_score(estimator = model_xg, X = scaler.fit_transform(X), y = y, cv = 10)\n",
    "cv_precision_4 = cross_val_score(estimator = model_xg, X = scaler.fit_transform(X), y = y, cv = 10, scoring='precision')\n",
    "cv_recall_4 = cross_val_score(estimator = model_xg, X = scaler.fit_transform(X), y = y, cv = 10, scoring='recall')\n",
    "cv_f1_4 = cross_val_score(estimator = model_xg, X = scaler.fit_transform(X), y = y, cv = 10, scoring='f1')\n",
    "print(cv_accuracy_0)\n",
    "print('Accuracy: {:.2f} %'.format(cv_accuracy_4.mean()*100))\n",
    "print('Standard Deviation: {:.2f} %'.format(cv_accuracy_4.std()*100))\n",
    "print('Precision: {:.2f} %'.format(cv_precision_4.mean()*100))\n",
    "print('Recall: {:.2f} %'.format(cv_recall_4.mean()*100))\n",
    "print('F1: {:.2f} %'.format(cv_f1_4.mean()*100))"
   ]
  },
  {
   "cell_type": "code",
   "execution_count": 50,
   "metadata": {},
   "outputs": [
    {
     "data": {
      "text/html": [
       "<div>\n",
       "<style scoped>\n",
       "    .dataframe tbody tr th:only-of-type {\n",
       "        vertical-align: middle;\n",
       "    }\n",
       "\n",
       "    .dataframe tbody tr th {\n",
       "        vertical-align: top;\n",
       "    }\n",
       "\n",
       "    .dataframe thead th {\n",
       "        text-align: right;\n",
       "    }\n",
       "</style>\n",
       "<table border=\"1\" class=\"dataframe\">\n",
       "  <thead>\n",
       "    <tr style=\"text-align: right;\">\n",
       "      <th></th>\n",
       "      <th>Accuracy</th>\n",
       "      <th>Precision</th>\n",
       "      <th>Recall</th>\n",
       "      <th>F1 Score</th>\n",
       "    </tr>\n",
       "  </thead>\n",
       "  <tbody>\n",
       "    <tr>\n",
       "      <th>LogisticRegression</th>\n",
       "      <td>0.721</td>\n",
       "      <td>0.742</td>\n",
       "      <td>0.678</td>\n",
       "      <td>0.708</td>\n",
       "    </tr>\n",
       "    <tr>\n",
       "      <th>RandomForest</th>\n",
       "      <td>0.711</td>\n",
       "      <td>0.715</td>\n",
       "      <td>0.702</td>\n",
       "      <td>0.708</td>\n",
       "    </tr>\n",
       "    <tr>\n",
       "      <th>RandomForest (HalvingGridSearch)</th>\n",
       "      <td>0.736</td>\n",
       "      <td>0.759</td>\n",
       "      <td>0.691</td>\n",
       "      <td>0.724</td>\n",
       "    </tr>\n",
       "    <tr>\n",
       "      <th>XGBoost</th>\n",
       "      <td>0.734</td>\n",
       "      <td>0.752</td>\n",
       "      <td>0.696</td>\n",
       "      <td>0.723</td>\n",
       "    </tr>\n",
       "    <tr>\n",
       "      <th>XGBoost (HalvingGridSearch)</th>\n",
       "      <td>0.736</td>\n",
       "      <td>0.760</td>\n",
       "      <td>0.690</td>\n",
       "      <td>0.723</td>\n",
       "    </tr>\n",
       "  </tbody>\n",
       "</table>\n",
       "</div>"
      ],
      "text/plain": [
       "                                  Accuracy  Precision  Recall  F1 Score\n",
       "LogisticRegression                   0.721      0.742   0.678     0.708\n",
       "RandomForest                         0.711      0.715   0.702     0.708\n",
       "RandomForest (HalvingGridSearch)     0.736      0.759   0.691     0.724\n",
       "XGBoost                              0.734      0.752   0.696     0.723\n",
       "XGBoost (HalvingGridSearch)          0.736      0.760   0.690     0.723"
      ]
     },
     "execution_count": 50,
     "metadata": {},
     "output_type": "execute_result"
    }
   ],
   "source": [
    "pd.set_option('display.float_format', '{:.3f}'.format)\n",
    "\n",
    "df_x = pd.DataFrame({\n",
    "    'LogisticRegression': [cv_accuracy_0.mean(), cv_precision_0.mean(), cv_recall_0.mean(), cv_f1_0.mean()], \n",
    "    'RandomForest': [cv_accuracy_1.mean(), cv_precision_1.mean(), cv_recall_1.mean(), cv_f1_1.mean()], \n",
    "    'RandomForest (HalvingGridSearch)': [cv_accuracy_2.mean(), cv_precision_2.mean(), cv_recall_2.mean(), cv_f1_2.mean()], \n",
    "    'XGBoost': [cv_accuracy_3.mean(), cv_precision_3.mean(), cv_recall_3.mean(), cv_f1_3.mean()], \n",
    "    'XGBoost (HalvingGridSearch)': [cv_accuracy_4.mean(), cv_precision_4.mean(), cv_recall_4.mean(), cv_f1_4.mean()]}, index = ['Accuracy', 'Precision', 'Recall', 'F1 Score']).T\n",
    "df_x"
   ]
  },
  {
   "cell_type": "code",
   "execution_count": 54,
   "metadata": {},
   "outputs": [
    {
     "data": {
      "text/plain": [
       "Index(['age', 'gender', 'height', 'weight', 'ap_hi', 'ap_lo', 'cholesterol',\n",
       "       'gluc', 'smoke', 'alco', 'active', 'cardio', 'BMI'],\n",
       "      dtype='object')"
      ]
     },
     "execution_count": 54,
     "metadata": {},
     "output_type": "execute_result"
    }
   ],
   "source": [
    "df.columns"
   ]
  },
  {
   "cell_type": "code",
   "execution_count": 60,
   "metadata": {},
   "outputs": [
    {
     "data": {
      "image/png": "[encoded data removed]",
      "text/plain": [
       "<Figure size 432x288 with 1 Axes>"
      ]
     },
     "metadata": {
      "needs_background": "light"
     },
     "output_type": "display_data"
    }
   ],
   "source": [
    "import xgboost\n",
    "\n",
    "model_xg.feature_names = ['age', 'gender', 'height', 'weight', 'ap_hi', 'ap_lo', 'cholesterol',\n",
    "       'gluc', 'smoke', 'alco', 'active', 'BMI']\n",
    "xgboost.plot_importance(model_xg, importance_type='weight', title = 'Feature Importance (XGBoost-HalvingGridSearch)')\n",
    "plt.show()"
   ]
  }
 ],
 "metadata": {
  "kernelspec": {
   "display_name": "Python 3",
   "language": "python",
   "name": "python3"
  },
  "language_info": {
   "codemirror_mode": {
    "name": "ipython",
    "version": 3
   },
   "file_extension": ".py",
   "mimetype": "text/x-python",
   "name": "python",
   "nbconvert_exporter": "python",
   "pygments_lexer": "ipython3",
   "version": "3.9.6"
  }
 },
 "nbformat": 4,
 "nbformat_minor": 2
}
