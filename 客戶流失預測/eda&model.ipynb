{
 "cells": [
  {
   "cell_type": "markdown",
   "metadata": {},
   "source": [
    "Churn for Bank Customers\n",
    "https://www.kaggle.com/datasets/mathchi/churn-for-bank-customers"
   ]
  },
  {
   "cell_type": "code",
   "execution_count": 1,
   "metadata": {},
   "outputs": [
    {
     "data": {
      "text/html": [
       "<div>\n",
       "<style scoped>\n",
       "    .dataframe tbody tr th:only-of-type {\n",
       "        vertical-align: middle;\n",
       "    }\n",
       "\n",
       "    .dataframe tbody tr th {\n",
       "        vertical-align: top;\n",
       "    }\n",
       "\n",
       "    .dataframe thead th {\n",
       "        text-align: right;\n",
       "    }\n",
       "</style>\n",
       "<table border=\"1\" class=\"dataframe\">\n",
       "  <thead>\n",
       "    <tr style=\"text-align: right;\">\n",
       "      <th></th>\n",
       "      <th>RowNumber</th>\n",
       "      <th>CustomerId</th>\n",
       "      <th>Surname</th>\n",
       "      <th>CreditScore</th>\n",
       "      <th>Geography</th>\n",
       "      <th>Gender</th>\n",
       "      <th>Age</th>\n",
       "      <th>Tenure</th>\n",
       "      <th>Balance</th>\n",
       "      <th>NumOfProducts</th>\n",
       "      <th>HasCrCard</th>\n",
       "      <th>IsActiveMember</th>\n",
       "      <th>EstimatedSalary</th>\n",
       "      <th>Exited</th>\n",
       "    </tr>\n",
       "  </thead>\n",
       "  <tbody>\n",
       "    <tr>\n",
       "      <th>0</th>\n",
       "      <td>1</td>\n",
       "      <td>15634602</td>\n",
       "      <td>Hargrave</td>\n",
       "      <td>619</td>\n",
       "      <td>France</td>\n",
       "      <td>Female</td>\n",
       "      <td>42</td>\n",
       "      <td>2</td>\n",
       "      <td>0.00</td>\n",
       "      <td>1</td>\n",
       "      <td>1</td>\n",
       "      <td>1</td>\n",
       "      <td>101348.88</td>\n",
       "      <td>1</td>\n",
       "    </tr>\n",
       "    <tr>\n",
       "      <th>1</th>\n",
       "      <td>2</td>\n",
       "      <td>15647311</td>\n",
       "      <td>Hill</td>\n",
       "      <td>608</td>\n",
       "      <td>Spain</td>\n",
       "      <td>Female</td>\n",
       "      <td>41</td>\n",
       "      <td>1</td>\n",
       "      <td>83807.86</td>\n",
       "      <td>1</td>\n",
       "      <td>0</td>\n",
       "      <td>1</td>\n",
       "      <td>112542.58</td>\n",
       "      <td>0</td>\n",
       "    </tr>\n",
       "    <tr>\n",
       "      <th>2</th>\n",
       "      <td>3</td>\n",
       "      <td>15619304</td>\n",
       "      <td>Onio</td>\n",
       "      <td>502</td>\n",
       "      <td>France</td>\n",
       "      <td>Female</td>\n",
       "      <td>42</td>\n",
       "      <td>8</td>\n",
       "      <td>159660.80</td>\n",
       "      <td>3</td>\n",
       "      <td>1</td>\n",
       "      <td>0</td>\n",
       "      <td>113931.57</td>\n",
       "      <td>1</td>\n",
       "    </tr>\n",
       "    <tr>\n",
       "      <th>3</th>\n",
       "      <td>4</td>\n",
       "      <td>15701354</td>\n",
       "      <td>Boni</td>\n",
       "      <td>699</td>\n",
       "      <td>France</td>\n",
       "      <td>Female</td>\n",
       "      <td>39</td>\n",
       "      <td>1</td>\n",
       "      <td>0.00</td>\n",
       "      <td>2</td>\n",
       "      <td>0</td>\n",
       "      <td>0</td>\n",
       "      <td>93826.63</td>\n",
       "      <td>0</td>\n",
       "    </tr>\n",
       "    <tr>\n",
       "      <th>4</th>\n",
       "      <td>5</td>\n",
       "      <td>15737888</td>\n",
       "      <td>Mitchell</td>\n",
       "      <td>850</td>\n",
       "      <td>Spain</td>\n",
       "      <td>Female</td>\n",
       "      <td>43</td>\n",
       "      <td>2</td>\n",
       "      <td>125510.82</td>\n",
       "      <td>1</td>\n",
       "      <td>1</td>\n",
       "      <td>1</td>\n",
       "      <td>79084.10</td>\n",
       "      <td>0</td>\n",
       "    </tr>\n",
       "    <tr>\n",
       "      <th>...</th>\n",
       "      <td>...</td>\n",
       "      <td>...</td>\n",
       "      <td>...</td>\n",
       "      <td>...</td>\n",
       "      <td>...</td>\n",
       "      <td>...</td>\n",
       "      <td>...</td>\n",
       "      <td>...</td>\n",
       "      <td>...</td>\n",
       "      <td>...</td>\n",
       "      <td>...</td>\n",
       "      <td>...</td>\n",
       "      <td>...</td>\n",
       "      <td>...</td>\n",
       "    </tr>\n",
       "    <tr>\n",
       "      <th>9995</th>\n",
       "      <td>9996</td>\n",
       "      <td>15606229</td>\n",
       "      <td>Obijiaku</td>\n",
       "      <td>771</td>\n",
       "      <td>France</td>\n",
       "      <td>Male</td>\n",
       "      <td>39</td>\n",
       "      <td>5</td>\n",
       "      <td>0.00</td>\n",
       "      <td>2</td>\n",
       "      <td>1</td>\n",
       "      <td>0</td>\n",
       "      <td>96270.64</td>\n",
       "      <td>0</td>\n",
       "    </tr>\n",
       "    <tr>\n",
       "      <th>9996</th>\n",
       "      <td>9997</td>\n",
       "      <td>15569892</td>\n",
       "      <td>Johnstone</td>\n",
       "      <td>516</td>\n",
       "      <td>France</td>\n",
       "      <td>Male</td>\n",
       "      <td>35</td>\n",
       "      <td>10</td>\n",
       "      <td>57369.61</td>\n",
       "      <td>1</td>\n",
       "      <td>1</td>\n",
       "      <td>1</td>\n",
       "      <td>101699.77</td>\n",
       "      <td>0</td>\n",
       "    </tr>\n",
       "    <tr>\n",
       "      <th>9997</th>\n",
       "      <td>9998</td>\n",
       "      <td>15584532</td>\n",
       "      <td>Liu</td>\n",
       "      <td>709</td>\n",
       "      <td>France</td>\n",
       "      <td>Female</td>\n",
       "      <td>36</td>\n",
       "      <td>7</td>\n",
       "      <td>0.00</td>\n",
       "      <td>1</td>\n",
       "      <td>0</td>\n",
       "      <td>1</td>\n",
       "      <td>42085.58</td>\n",
       "      <td>1</td>\n",
       "    </tr>\n",
       "    <tr>\n",
       "      <th>9998</th>\n",
       "      <td>9999</td>\n",
       "      <td>15682355</td>\n",
       "      <td>Sabbatini</td>\n",
       "      <td>772</td>\n",
       "      <td>Germany</td>\n",
       "      <td>Male</td>\n",
       "      <td>42</td>\n",
       "      <td>3</td>\n",
       "      <td>75075.31</td>\n",
       "      <td>2</td>\n",
       "      <td>1</td>\n",
       "      <td>0</td>\n",
       "      <td>92888.52</td>\n",
       "      <td>1</td>\n",
       "    </tr>\n",
       "    <tr>\n",
       "      <th>9999</th>\n",
       "      <td>10000</td>\n",
       "      <td>15628319</td>\n",
       "      <td>Walker</td>\n",
       "      <td>792</td>\n",
       "      <td>France</td>\n",
       "      <td>Female</td>\n",
       "      <td>28</td>\n",
       "      <td>4</td>\n",
       "      <td>130142.79</td>\n",
       "      <td>1</td>\n",
       "      <td>1</td>\n",
       "      <td>0</td>\n",
       "      <td>38190.78</td>\n",
       "      <td>0</td>\n",
       "    </tr>\n",
       "  </tbody>\n",
       "</table>\n",
       "<p>10000 rows × 14 columns</p>\n",
       "</div>"
      ],
      "text/plain": [
       "      RowNumber  CustomerId    Surname  CreditScore Geography  Gender  Age  \\\n",
       "0             1    15634602   Hargrave          619    France  Female   42   \n",
       "1             2    15647311       Hill          608     Spain  Female   41   \n",
       "2             3    15619304       Onio          502    France  Female   42   \n",
       "3             4    15701354       Boni          699    France  Female   39   \n",
       "4             5    15737888   Mitchell          850     Spain  Female   43   \n",
       "...         ...         ...        ...          ...       ...     ...  ...   \n",
       "9995       9996    15606229   Obijiaku          771    France    Male   39   \n",
       "9996       9997    15569892  Johnstone          516    France    Male   35   \n",
       "9997       9998    15584532        Liu          709    France  Female   36   \n",
       "9998       9999    15682355  Sabbatini          772   Germany    Male   42   \n",
       "9999      10000    15628319     Walker          792    France  Female   28   \n",
       "\n",
       "      Tenure    Balance  NumOfProducts  HasCrCard  IsActiveMember  \\\n",
       "0          2       0.00              1          1               1   \n",
       "1          1   83807.86              1          0               1   \n",
       "2          8  159660.80              3          1               0   \n",
       "3          1       0.00              2          0               0   \n",
       "4          2  125510.82              1          1               1   \n",
       "...      ...        ...            ...        ...             ...   \n",
       "9995       5       0.00              2          1               0   \n",
       "9996      10   57369.61              1          1               1   \n",
       "9997       7       0.00              1          0               1   \n",
       "9998       3   75075.31              2          1               0   \n",
       "9999       4  130142.79              1          1               0   \n",
       "\n",
       "      EstimatedSalary  Exited  \n",
       "0           101348.88       1  \n",
       "1           112542.58       0  \n",
       "2           113931.57       1  \n",
       "3            93826.63       0  \n",
       "4            79084.10       0  \n",
       "...               ...     ...  \n",
       "9995         96270.64       0  \n",
       "9996        101699.77       0  \n",
       "9997         42085.58       1  \n",
       "9998         92888.52       1  \n",
       "9999         38190.78       0  \n",
       "\n",
       "[10000 rows x 14 columns]"
      ]
     },
     "execution_count": 1,
     "metadata": {},
     "output_type": "execute_result"
    }
   ],
   "source": [
    "import pandas as pd\n",
    "import matplotlib.pyplot as plt\n",
    "\n",
    "import seaborn as sns\n",
    "#import plotly.express as px\n",
    "df = pd.read_csv(\"C:/Users/CHARLIE/Desktop/客戶流失預測/churn.csv\", sep = ',')\n",
    "\n",
    "df"
   ]
  },
  {
   "cell_type": "markdown",
   "metadata": {},
   "source": [
    "1. RowNumber — corresponds to the record (row) number and has no effect on the output.\n",
    "2. CustomerId — contains random values and has no effect on customer leaving the bank.\n",
    "3. Surname — the surname of a customer has no impact on their decision to leave the bank.\n",
    "4. CreditScore — can have an effect on customer churn, since a customer with a higher credit score is less likely to leave the bank.\n",
    "5. Geography — a customer’s location can affect their decision to leave the bank.\n",
    "6. Gender — it’s interesting to explore whether gender plays a role in a customer leaving the bank.\n",
    "7. Age — this is certainly relevant, since older customers are less likely to leave their bank than younger ones.\n",
    "8. Tenure — refers to the number of years that the customer has been a client of the bank. Normally, older clients are more loyal and less likely to leave a bank.\n",
    "9. Balance — also a very good indicator of customer churn, as people with a higher balance in their accounts are less likely to leave the bank compared to those with lower balances.\n",
    "10. NumOfProducts — refers to the number of products that a customer has purchased through the bank.\n",
    "11. HasCrCard — denotes whether or not a customer has a credit card. This column is also relevant, since people with a credit card are less likely to leave the bank.\n",
    "12. IsActiveMember — active customers are less likely to leave the bank.\n",
    "13. EstimatedSalary — as with balance, people with lower salaries are more likely to leave the bank compared to those with higher salaries.\n",
    "14. Exited — whether or not the customer left the bank."
   ]
  },
  {
   "cell_type": "code",
   "execution_count": 2,
   "metadata": {},
   "outputs": [
    {
     "data": {
      "text/plain": [
       "RowNumber          0\n",
       "CustomerId         0\n",
       "Surname            0\n",
       "CreditScore        0\n",
       "Geography          0\n",
       "Gender             0\n",
       "Age                0\n",
       "Tenure             0\n",
       "Balance            0\n",
       "NumOfProducts      0\n",
       "HasCrCard          0\n",
       "IsActiveMember     0\n",
       "EstimatedSalary    0\n",
       "Exited             0\n",
       "dtype: int64"
      ]
     },
     "execution_count": 2,
     "metadata": {},
     "output_type": "execute_result"
    }
   ],
   "source": [
    "df.isnull().sum()"
   ]
  },
  {
   "cell_type": "code",
   "execution_count": 2,
   "metadata": {},
   "outputs": [
    {
     "name": "stdout",
     "output_type": "stream",
     "text": [
      "<class 'pandas.core.frame.DataFrame'>\n",
      "RangeIndex: 10000 entries, 0 to 9999\n",
      "Data columns (total 11 columns):\n",
      " #   Column           Non-Null Count  Dtype  \n",
      "---  ------           --------------  -----  \n",
      " 0   CreditScore      10000 non-null  int64  \n",
      " 1   Geography        10000 non-null  object \n",
      " 2   Gender           10000 non-null  object \n",
      " 3   Age              10000 non-null  int64  \n",
      " 4   Tenure           10000 non-null  int64  \n",
      " 5   Balance          10000 non-null  float64\n",
      " 6   NumOfProducts    10000 non-null  int64  \n",
      " 7   HasCrCard        10000 non-null  int64  \n",
      " 8   IsActiveMember   10000 non-null  int64  \n",
      " 9   EstimatedSalary  10000 non-null  float64\n",
      " 10  Exited           10000 non-null  int64  \n",
      "dtypes: float64(2), int64(7), object(2)\n",
      "memory usage: 859.5+ KB\n"
     ]
    }
   ],
   "source": [
    "df = df.drop(columns = ['RowNumber', 'CustomerId', 'Surname'])\n",
    "df.info()"
   ]
  },
  {
   "cell_type": "code",
   "execution_count": 3,
   "metadata": {},
   "outputs": [
    {
     "data": {
      "text/html": [
       "<div>\n",
       "<style scoped>\n",
       "    .dataframe tbody tr th:only-of-type {\n",
       "        vertical-align: middle;\n",
       "    }\n",
       "\n",
       "    .dataframe tbody tr th {\n",
       "        vertical-align: top;\n",
       "    }\n",
       "\n",
       "    .dataframe thead th {\n",
       "        text-align: right;\n",
       "    }\n",
       "</style>\n",
       "<table border=\"1\" class=\"dataframe\">\n",
       "  <thead>\n",
       "    <tr style=\"text-align: right;\">\n",
       "      <th></th>\n",
       "      <th>CreditScore</th>\n",
       "      <th>Geography</th>\n",
       "      <th>Gender</th>\n",
       "      <th>Age</th>\n",
       "      <th>Tenure</th>\n",
       "      <th>Balance</th>\n",
       "      <th>NumOfProducts</th>\n",
       "      <th>HasCrCard</th>\n",
       "      <th>IsActiveMember</th>\n",
       "      <th>EstimatedSalary</th>\n",
       "      <th>Exited</th>\n",
       "    </tr>\n",
       "  </thead>\n",
       "  <tbody>\n",
       "    <tr>\n",
       "      <th>count</th>\n",
       "      <td>10000.000000</td>\n",
       "      <td>10000</td>\n",
       "      <td>10000</td>\n",
       "      <td>10000.000000</td>\n",
       "      <td>10000.000000</td>\n",
       "      <td>10000.000000</td>\n",
       "      <td>10000.000000</td>\n",
       "      <td>10000.00000</td>\n",
       "      <td>10000.000000</td>\n",
       "      <td>10000.000000</td>\n",
       "      <td>10000.000000</td>\n",
       "    </tr>\n",
       "    <tr>\n",
       "      <th>unique</th>\n",
       "      <td>NaN</td>\n",
       "      <td>3</td>\n",
       "      <td>2</td>\n",
       "      <td>NaN</td>\n",
       "      <td>NaN</td>\n",
       "      <td>NaN</td>\n",
       "      <td>NaN</td>\n",
       "      <td>NaN</td>\n",
       "      <td>NaN</td>\n",
       "      <td>NaN</td>\n",
       "      <td>NaN</td>\n",
       "    </tr>\n",
       "    <tr>\n",
       "      <th>top</th>\n",
       "      <td>NaN</td>\n",
       "      <td>France</td>\n",
       "      <td>Male</td>\n",
       "      <td>NaN</td>\n",
       "      <td>NaN</td>\n",
       "      <td>NaN</td>\n",
       "      <td>NaN</td>\n",
       "      <td>NaN</td>\n",
       "      <td>NaN</td>\n",
       "      <td>NaN</td>\n",
       "      <td>NaN</td>\n",
       "    </tr>\n",
       "    <tr>\n",
       "      <th>freq</th>\n",
       "      <td>NaN</td>\n",
       "      <td>5014</td>\n",
       "      <td>5457</td>\n",
       "      <td>NaN</td>\n",
       "      <td>NaN</td>\n",
       "      <td>NaN</td>\n",
       "      <td>NaN</td>\n",
       "      <td>NaN</td>\n",
       "      <td>NaN</td>\n",
       "      <td>NaN</td>\n",
       "      <td>NaN</td>\n",
       "    </tr>\n",
       "    <tr>\n",
       "      <th>mean</th>\n",
       "      <td>650.528800</td>\n",
       "      <td>NaN</td>\n",
       "      <td>NaN</td>\n",
       "      <td>38.921800</td>\n",
       "      <td>5.012800</td>\n",
       "      <td>76485.889288</td>\n",
       "      <td>1.530200</td>\n",
       "      <td>0.70550</td>\n",
       "      <td>0.515100</td>\n",
       "      <td>100090.239881</td>\n",
       "      <td>0.203700</td>\n",
       "    </tr>\n",
       "    <tr>\n",
       "      <th>std</th>\n",
       "      <td>96.653299</td>\n",
       "      <td>NaN</td>\n",
       "      <td>NaN</td>\n",
       "      <td>10.487806</td>\n",
       "      <td>2.892174</td>\n",
       "      <td>62397.405202</td>\n",
       "      <td>0.581654</td>\n",
       "      <td>0.45584</td>\n",
       "      <td>0.499797</td>\n",
       "      <td>57510.492818</td>\n",
       "      <td>0.402769</td>\n",
       "    </tr>\n",
       "    <tr>\n",
       "      <th>min</th>\n",
       "      <td>350.000000</td>\n",
       "      <td>NaN</td>\n",
       "      <td>NaN</td>\n",
       "      <td>18.000000</td>\n",
       "      <td>0.000000</td>\n",
       "      <td>0.000000</td>\n",
       "      <td>1.000000</td>\n",
       "      <td>0.00000</td>\n",
       "      <td>0.000000</td>\n",
       "      <td>11.580000</td>\n",
       "      <td>0.000000</td>\n",
       "    </tr>\n",
       "    <tr>\n",
       "      <th>25%</th>\n",
       "      <td>584.000000</td>\n",
       "      <td>NaN</td>\n",
       "      <td>NaN</td>\n",
       "      <td>32.000000</td>\n",
       "      <td>3.000000</td>\n",
       "      <td>0.000000</td>\n",
       "      <td>1.000000</td>\n",
       "      <td>0.00000</td>\n",
       "      <td>0.000000</td>\n",
       "      <td>51002.110000</td>\n",
       "      <td>0.000000</td>\n",
       "    </tr>\n",
       "    <tr>\n",
       "      <th>50%</th>\n",
       "      <td>652.000000</td>\n",
       "      <td>NaN</td>\n",
       "      <td>NaN</td>\n",
       "      <td>37.000000</td>\n",
       "      <td>5.000000</td>\n",
       "      <td>97198.540000</td>\n",
       "      <td>1.000000</td>\n",
       "      <td>1.00000</td>\n",
       "      <td>1.000000</td>\n",
       "      <td>100193.915000</td>\n",
       "      <td>0.000000</td>\n",
       "    </tr>\n",
       "    <tr>\n",
       "      <th>75%</th>\n",
       "      <td>718.000000</td>\n",
       "      <td>NaN</td>\n",
       "      <td>NaN</td>\n",
       "      <td>44.000000</td>\n",
       "      <td>7.000000</td>\n",
       "      <td>127644.240000</td>\n",
       "      <td>2.000000</td>\n",
       "      <td>1.00000</td>\n",
       "      <td>1.000000</td>\n",
       "      <td>149388.247500</td>\n",
       "      <td>0.000000</td>\n",
       "    </tr>\n",
       "    <tr>\n",
       "      <th>max</th>\n",
       "      <td>850.000000</td>\n",
       "      <td>NaN</td>\n",
       "      <td>NaN</td>\n",
       "      <td>92.000000</td>\n",
       "      <td>10.000000</td>\n",
       "      <td>250898.090000</td>\n",
       "      <td>4.000000</td>\n",
       "      <td>1.00000</td>\n",
       "      <td>1.000000</td>\n",
       "      <td>199992.480000</td>\n",
       "      <td>1.000000</td>\n",
       "    </tr>\n",
       "  </tbody>\n",
       "</table>\n",
       "</div>"
      ],
      "text/plain": [
       "         CreditScore Geography Gender           Age        Tenure  \\\n",
       "count   10000.000000     10000  10000  10000.000000  10000.000000   \n",
       "unique           NaN         3      2           NaN           NaN   \n",
       "top              NaN    France   Male           NaN           NaN   \n",
       "freq             NaN      5014   5457           NaN           NaN   \n",
       "mean      650.528800       NaN    NaN     38.921800      5.012800   \n",
       "std        96.653299       NaN    NaN     10.487806      2.892174   \n",
       "min       350.000000       NaN    NaN     18.000000      0.000000   \n",
       "25%       584.000000       NaN    NaN     32.000000      3.000000   \n",
       "50%       652.000000       NaN    NaN     37.000000      5.000000   \n",
       "75%       718.000000       NaN    NaN     44.000000      7.000000   \n",
       "max       850.000000       NaN    NaN     92.000000     10.000000   \n",
       "\n",
       "              Balance  NumOfProducts    HasCrCard  IsActiveMember  \\\n",
       "count    10000.000000   10000.000000  10000.00000    10000.000000   \n",
       "unique            NaN            NaN          NaN             NaN   \n",
       "top               NaN            NaN          NaN             NaN   \n",
       "freq              NaN            NaN          NaN             NaN   \n",
       "mean     76485.889288       1.530200      0.70550        0.515100   \n",
       "std      62397.405202       0.581654      0.45584        0.499797   \n",
       "min          0.000000       1.000000      0.00000        0.000000   \n",
       "25%          0.000000       1.000000      0.00000        0.000000   \n",
       "50%      97198.540000       1.000000      1.00000        1.000000   \n",
       "75%     127644.240000       2.000000      1.00000        1.000000   \n",
       "max     250898.090000       4.000000      1.00000        1.000000   \n",
       "\n",
       "        EstimatedSalary        Exited  \n",
       "count      10000.000000  10000.000000  \n",
       "unique              NaN           NaN  \n",
       "top                 NaN           NaN  \n",
       "freq                NaN           NaN  \n",
       "mean      100090.239881      0.203700  \n",
       "std        57510.492818      0.402769  \n",
       "min           11.580000      0.000000  \n",
       "25%        51002.110000      0.000000  \n",
       "50%       100193.915000      0.000000  \n",
       "75%       149388.247500      0.000000  \n",
       "max       199992.480000      1.000000  "
      ]
     },
     "execution_count": 3,
     "metadata": {},
     "output_type": "execute_result"
    }
   ],
   "source": [
    "df.describe(include = 'all')"
   ]
  },
  {
   "cell_type": "markdown",
   "metadata": {},
   "source": [
    "### EDA"
   ]
  },
  {
   "cell_type": "markdown",
   "metadata": {},
   "source": [
    "#### 相關係數"
   ]
  },
  {
   "cell_type": "code",
   "execution_count": 4,
   "metadata": {},
   "outputs": [
    {
     "data": {
      "text/plain": [
       "<AxesSubplot: >"
      ]
     },
     "execution_count": 4,
     "metadata": {},
     "output_type": "execute_result"
    },
    {
     "data": {
      "image/png": "[encoded data removed]",
      "text/plain": [
       "<Figure size 936x792 with 2 Axes>"
      ]
     },
     "metadata": {
      "needs_background": "light"
     },
     "output_type": "display_data"
    }
   ],
   "source": [
    "numeric_data = df.select_dtypes(include=['int', 'float'])\n",
    "cm = numeric_data.corr()\n",
    "\n",
    "plt.figure(figsize = (13, 11))\n",
    "sns.heatmap(cm, annot = True, cmap = 'GnBu')"
   ]
  },
  {
   "cell_type": "markdown",
   "metadata": {},
   "source": [
    "#### 年齡、信用評分、帳戶餘額、薪資"
   ]
  },
  {
   "cell_type": "code",
   "execution_count": 3,
   "metadata": {},
   "outputs": [],
   "source": [
    "df_copy = df.copy()\n",
    "df_copy['NumOfProducts'] = df_copy['NumOfProducts'].astype(str)\n",
    "df_copy['HasCrCard'] = df_copy['HasCrCard'].astype(str)\n",
    "df_copy['IsActiveMember'] = df_copy['IsActiveMember'].astype(str)\n",
    "df_copy['Exited'] = df_copy['Exited'].astype(str)\n",
    "# df_copy['Tenure'] = df_copy['Tenure'].astype(str)"
   ]
  },
  {
   "cell_type": "code",
   "execution_count": 7,
   "metadata": {},
   "outputs": [
    {
     "data": {
      "text/plain": [
       "Index(['CreditScore', 'Geography', 'Gender', 'Age', 'Tenure', 'Balance',\n",
       "       'NumOfProducts', 'HasCrCard', 'IsActiveMember', 'EstimatedSalary',\n",
       "       'Exited'],\n",
       "      dtype='object')"
      ]
     },
     "execution_count": 7,
     "metadata": {},
     "output_type": "execute_result"
    }
   ],
   "source": [
    "df_copy.columns"
   ]
  },
  {
   "cell_type": "code",
   "execution_count": 4,
   "metadata": {},
   "outputs": [
    {
     "data": {
      "image/png": "[encoded data removed]",
      "text/plain": [
       "<Figure size 432x288 with 1 Axes>"
      ]
     },
     "metadata": {
      "needs_background": "light"
     },
     "output_type": "display_data"
    }
   ],
   "source": [
    "plt.rcParams['font.sans-serif'] = ['Microsoft JhengHei']\n",
    "plt.rcParams['axes.unicode_minus'] = False\n",
    "plt.rcParams.update({'font.size': 11})\n",
    "plt.rcParams['text.color'] = 'black'\n",
    "plt.rcParams['axes.labelcolor'] = 'black'\n",
    "\n",
    "sns.histplot(data = df_copy, x='CreditScore', bins=20, hue='Exited', palette='Set1')\n",
    "\n",
    "plt.xlabel('信用評分')\n",
    "plt.ylabel('人數')\n",
    "#plt.title('信用評分分佈')\n",
    "\n",
    "plt.show()"
   ]
  },
  {
   "cell_type": "code",
   "execution_count": 7,
   "metadata": {},
   "outputs": [
    {
     "data": {
      "image/png": "[encoded data removed]",
      "text/plain": [
       "<Figure size 432x288 with 1 Axes>"
      ]
     },
     "metadata": {
      "needs_background": "light"
     },
     "output_type": "display_data"
    }
   ],
   "source": [
    "plt.rcParams['font.sans-serif'] = ['Microsoft JhengHei']\n",
    "plt.rcParams['axes.unicode_minus'] = False\n",
    "plt.rcParams.update({'font.size': 11})\n",
    "plt.rcParams['text.color'] = 'black'\n",
    "plt.rcParams['axes.labelcolor'] = 'black'\n",
    "\n",
    "sns.histplot(data = df_copy, x='Age', bins=25, hue='IsActiveMember', palette='Set1')\n",
    "\n",
    "plt.xlabel('信用評分')\n",
    "plt.ylabel('人數')\n",
    "#plt.title('信用評分分佈')\n",
    "\n",
    "plt.show()"
   ]
  },
  {
   "cell_type": "code",
   "execution_count": 9,
   "metadata": {},
   "outputs": [
    {
     "data": {
      "image/png": "[encoded data removed]",
      "text/plain": [
       "<Figure size 720x432 with 2 Axes>"
      ]
     },
     "metadata": {
      "needs_background": "light"
     },
     "output_type": "display_data"
    }
   ],
   "source": [
    "plt.figure(figsize=(10, 6))\n",
    "\n",
    "plt.subplot(1, 2, 1)\n",
    "sns.kdeplot(data = df_copy[df_copy['Exited'] == '1'], x = 'CreditScore', color = 'red', fill = True)\n",
    "plt.title('Exited = 1')\n",
    "plt.xlabel('CreditScore')\n",
    "plt.ylabel('Density')\n",
    "\n",
    "plt.subplot(1, 2, 2)\n",
    "sns.kdeplot(data = df_copy[df_copy['Exited'] == '0'], x = 'CreditScore', color = 'blue', fill = True)\n",
    "plt.title('Exited = 0')\n",
    "plt.xlabel('CreditScore')\n",
    "plt.ylabel('Density')\n",
    "\n",
    "plt.tight_layout()\n",
    "plt.show()"
   ]
  },
  {
   "cell_type": "code",
   "execution_count": 74,
   "metadata": {},
   "outputs": [
    {
     "name": "stderr",
     "output_type": "stream",
     "text": [
      "c:\\Users\\CHARLIE\\AppData\\Local\\Programs\\Python\\Python39\\lib\\site-packages\\seaborn\\_oldcore.py:1119: FutureWarning: use_inf_as_na option is deprecated and will be removed in a future version. Convert inf values to NaN before operating instead.\n",
      "  with pd.option_context('mode.use_inf_as_na', True):\n",
      "c:\\Users\\CHARLIE\\AppData\\Local\\Programs\\Python\\Python39\\lib\\site-packages\\seaborn\\_oldcore.py:1075: FutureWarning: When grouping with a length-1 list-like, you will need to pass a length-1 tuple to get_group in a future version of pandas. Pass `(name,)` instead of `name` to silence this warning.\n",
      "  data_subset = grouped_data.get_group(pd_key)\n",
      "c:\\Users\\CHARLIE\\AppData\\Local\\Programs\\Python\\Python39\\lib\\site-packages\\seaborn\\_oldcore.py:1075: FutureWarning: When grouping with a length-1 list-like, you will need to pass a length-1 tuple to get_group in a future version of pandas. Pass `(name,)` instead of `name` to silence this warning.\n",
      "  data_subset = grouped_data.get_group(pd_key)\n",
      "c:\\Users\\CHARLIE\\AppData\\Local\\Programs\\Python\\Python39\\lib\\site-packages\\seaborn\\_oldcore.py:1075: FutureWarning: When grouping with a length-1 list-like, you will need to pass a length-1 tuple to get_group in a future version of pandas. Pass `(name,)` instead of `name` to silence this warning.\n",
      "  data_subset = grouped_data.get_group(pd_key)\n"
     ]
    },
    {
     "data": {
      "image/png": "[encoded data removed]",
      "text/plain": [
       "<Figure size 432x288 with 1 Axes>"
      ]
     },
     "metadata": {
      "needs_background": "light"
     },
     "output_type": "display_data"
    }
   ],
   "source": [
    "sns.histplot(data = df_copy, x = 'EstimatedSalary', bins = 20, hue = 'Exited', palette = 'Set1')\n",
    "\n",
    "plt.xlabel('客戶薪資')\n",
    "plt.ylabel('人數')\n",
    "#plt.title('客戶薪資')\n",
    "\n",
    "plt.show()"
   ]
  },
  {
   "cell_type": "code",
   "execution_count": 14,
   "metadata": {},
   "outputs": [
    {
     "data": {
      "image/png": "[encoded data removed]",
      "text/plain": [
       "<Figure size 432x288 with 1 Axes>"
      ]
     },
     "metadata": {
      "needs_background": "light"
     },
     "output_type": "display_data"
    }
   ],
   "source": [
    "sns.histplot(data = df_copy, x = 'Balance', bins = 20, hue = 'Exited', palette = 'Set1')\n",
    "#sns.kdeplot(data=df_copy, x='CreditScore', hue='Exited', palette='Set1', fill=True)\n",
    "\n",
    "plt.xlabel('存款餘額')\n",
    "plt.ylabel('人數')\n",
    "#plt.title('客戶薪資')\n",
    "\n",
    "plt.show()"
   ]
  },
  {
   "cell_type": "markdown",
   "metadata": {},
   "source": [
    "#### 產品數-流失"
   ]
  },
  {
   "cell_type": "code",
   "execution_count": 54,
   "metadata": {},
   "outputs": [
    {
     "data": {
      "image/png": "[encoded data removed]",
      "text/plain": [
       "<Figure size 432x288 with 1 Axes>"
      ]
     },
     "metadata": {
      "needs_background": "light"
     },
     "output_type": "display_data"
    }
   ],
   "source": [
    "def add_bar_labels(ax):\n",
    "    for container in ax.containers:\n",
    "        ax.bar_label(container, label_type='edge')\n",
    "counts = df_copy.groupby(['NumOfProducts', 'Exited']).size().unstack(fill_value = 0)\n",
    "\n",
    "sns.set_palette(sns.color_palette(['skyblue', 'pink']))\n",
    "ax = counts.plot(kind = 'bar', stacked = False, width = 0.8)\n",
    "add_bar_labels(ax)\n",
    "\n",
    "plt.xlabel('產品數量', fontsize = 13)\n",
    "plt.ylabel('人數', fontsize = 13)\n",
    "plt.legend(['未流失', '流失'], title='流失情況', fontsize=10)\n",
    "plt.ylim(0, 4500)\n",
    "plt.xticks(fontsize=10, rotation = 0)\n",
    "plt.yticks(fontsize=10)\n",
    "\n",
    "plt.show()"
   ]
  },
  {
   "cell_type": "code",
   "execution_count": 65,
   "metadata": {},
   "outputs": [
    {
     "data": {
      "text/plain": [
       "Chi2ContingencyResult(statistic=1503.6293615070408, pvalue=0.0, dof=3, expected_freq=array([[4048.3892, 1035.6108],\n",
       "       [3655.017 ,  934.983 ],\n",
       "       [ 211.8158,   54.1842],\n",
       "       [  47.778 ,   12.222 ]]))"
      ]
     },
     "execution_count": 65,
     "metadata": {},
     "output_type": "execute_result"
    }
   ],
   "source": [
    "import numpy as np\n",
    "import scipy.stats\n",
    "chi = np.array([counts.iloc[0, :].tolist(), \n",
    "                counts.iloc[1, :].tolist(),\n",
    "                counts.iloc[2, :].tolist(),\n",
    "                counts.iloc[3, :]])\n",
    "\n",
    "scipy.stats.chi2_contingency(chi)"
   ]
  },
  {
   "cell_type": "markdown",
   "metadata": {},
   "source": [
    "#### 地理位置-流失"
   ]
  },
  {
   "cell_type": "code",
   "execution_count": 83,
   "metadata": {},
   "outputs": [
    {
     "data": {
      "image/png": "[encoded data removed]",
      "text/plain": [
       "<Figure size 432x288 with 1 Axes>"
      ]
     },
     "metadata": {
      "needs_background": "light"
     },
     "output_type": "display_data"
    }
   ],
   "source": [
    "plt.rcParams['font.sans-serif'] = ['Microsoft JhengHei']\n",
    "plt.rcParams['axes.unicode_minus'] = False\n",
    "plt.rcParams.update({'font.size': 11})\n",
    "\n",
    "counts = df_copy.groupby(['Geography', 'Exited']).size().unstack(fill_value = 0)\n",
    "\n",
    "sns.set_palette(sns.color_palette(['skyblue', 'pink']))\n",
    "counts.plot(kind = 'bar', stacked = True, width = 0.8)\n",
    "\n",
    "for i, category in enumerate(counts.index):\n",
    "    total_count = counts.loc[category].sum()\n",
    "    bottom = 0\n",
    "    for j, col_label in enumerate(counts.columns):\n",
    "        count = counts.loc[category, col_label]\n",
    "        plt.text(i, bottom + count/2, str(count), ha='center', color='black')\n",
    "        bottom += count\n",
    "\n",
    "plt.xlabel('國家', fontsize = 13)\n",
    "plt.ylabel('人數', fontsize = 13)\n",
    "plt.legend(['未流失', '流失'], title='流失情況', fontsize=10)\n",
    "plt.xticks(fontsize=10, rotation = 0)\n",
    "plt.yticks(fontsize=10)\n",
    "\n",
    "plt.show()"
   ]
  },
  {
   "cell_type": "code",
   "execution_count": 62,
   "metadata": {},
   "outputs": [
    {
     "data": {
      "text/plain": [
       "Chi2ContingencyResult(statistic=301.25533682434536, pvalue=3.8303176053541544e-66, dof=2, expected_freq=array([[3992.6482, 1021.3518],\n",
       "       [1997.9167,  511.0833],\n",
       "       [1972.4351,  504.5649]]))"
      ]
     },
     "execution_count": 62,
     "metadata": {},
     "output_type": "execute_result"
    }
   ],
   "source": [
    "chi = np.array([counts.iloc[0, :].tolist(), \n",
    "                counts.iloc[1, :].tolist(),\n",
    "                counts.iloc[2, :].tolist()])\n",
    "scipy.stats.chi2_contingency(chi)"
   ]
  },
  {
   "cell_type": "code",
   "execution_count": 63,
   "metadata": {},
   "outputs": [
    {
     "data": {
      "text/plain": [
       "'p_value: 0.000000000000000000000000000000000000000000000000000000000000000004'"
      ]
     },
     "execution_count": 63,
     "metadata": {},
     "output_type": "execute_result"
    }
   ],
   "source": [
    "p = scipy.stats.chi2_contingency(chi, correction = False)[1]\n",
    "f'p_value: {p:.66f}'"
   ]
  },
  {
   "cell_type": "markdown",
   "metadata": {},
   "source": [
    "#### 信用卡-流失"
   ]
  },
  {
   "cell_type": "code",
   "execution_count": 22,
   "metadata": {},
   "outputs": [
    {
     "data": {
      "image/png": "[encoded data removed]",
      "text/plain": [
       "<Figure size 432x288 with 1 Axes>"
      ]
     },
     "metadata": {
      "needs_background": "light"
     },
     "output_type": "display_data"
    }
   ],
   "source": [
    "# fig = plt.figure(facecolor='lightgrey')\n",
    "# plt.rcParams['font.sans-serif'] = ['Microsoft JhengHei']\n",
    "# plt.rcParams['axes.unicode_minus'] = False\n",
    "# plt.rcParams.update({'font.size': 11})\n",
    "\n",
    "counts = df_copy.groupby(['HasCrCard', 'Exited']).size().unstack(fill_value = 0)\n",
    "\n",
    "sns.set_palette(sns.color_palette(['skyblue', 'pink']))\n",
    "counts.plot(kind = 'bar', stacked = True, width = 0.8) \n",
    "\n",
    "\n",
    "for i, category in enumerate(counts.index):\n",
    "    total_count = counts.loc[category].sum()\n",
    "    bottom = 0\n",
    "    for j, col_label in enumerate(counts.columns):\n",
    "        count = counts.loc[category, col_label]\n",
    "        plt.text(i, bottom + count/2, str(count), ha='center', color='black')\n",
    "        bottom += count\n",
    "\n",
    "\n",
    "plt.xlabel('是否有信用卡', fontsize = 13)\n",
    "plt.ylabel('人數', fontsize = 13)\n",
    "plt.legend(['未流失', '流失'], title='流失情況', fontsize=10)\n",
    "plt.xticks(fontsize=10, rotation = 0)\n",
    "plt.yticks(fontsize=10)\n",
    "\n",
    "plt.show()"
   ]
  },
  {
   "cell_type": "code",
   "execution_count": 23,
   "metadata": {},
   "outputs": [
    {
     "data": {
      "text/plain": [
       "Chi2ContingencyResult(statistic=0.5094769780392745, pvalue=0.475365355970654, dof=1, expected_freq=array([[2345.1035,  599.8965],\n",
       "       [5617.8965, 1437.1035]]))"
      ]
     },
     "execution_count": 23,
     "metadata": {},
     "output_type": "execute_result"
    }
   ],
   "source": [
    "chi = np.array([counts.iloc[0, :].tolist(), \n",
    "                counts.iloc[1, :].tolist()])\n",
    "scipy.stats.chi2_contingency(chi, correction = False)"
   ]
  },
  {
   "cell_type": "markdown",
   "metadata": {},
   "source": [
    "#### 活躍用戶-流失"
   ]
  },
  {
   "cell_type": "code",
   "execution_count": 57,
   "metadata": {},
   "outputs": [
    {
     "data": {
      "image/png": "[encoded data removed]",
      "text/plain": [
       "<Figure size 432x288 with 1 Axes>"
      ]
     },
     "metadata": {
      "needs_background": "light"
     },
     "output_type": "display_data"
    }
   ],
   "source": [
    "# fig = plt.figure(facecolor='lightgrey')\n",
    "plt.rcParams['font.sans-serif'] = ['Microsoft JhengHei']\n",
    "plt.rcParams['axes.unicode_minus'] = False\n",
    "plt.rcParams.update({'font.size': 11})\n",
    "\n",
    "counts = df_copy.groupby(['IsActiveMember', 'Exited']).size().unstack(fill_value = 0)\n",
    "\n",
    "sns.set_palette(sns.color_palette(['skyblue', 'pink']))\n",
    "counts.plot(kind = 'bar', stacked = True, width = 0.8) \n",
    "\n",
    "\n",
    "for i, category in enumerate(counts.index):\n",
    "    total_count = counts.loc[category].sum()\n",
    "    bottom = 0\n",
    "    for j, col_label in enumerate(counts.columns):\n",
    "        count = counts.loc[category, col_label]\n",
    "        plt.text(i, bottom + count/2, str(count), ha='center', color='black')\n",
    "        bottom += count\n",
    "\n",
    "\n",
    "plt.xlabel('是否為活躍用戶', fontsize = 13)\n",
    "plt.ylabel('人數', fontsize = 13)\n",
    "plt.legend(['未流失', '流失'], title='流失情況', fontsize=10)\n",
    "plt.xticks(fontsize=10, rotation = 0)\n",
    "plt.yticks(fontsize=10)\n",
    "\n",
    "plt.show()"
   ]
  },
  {
   "cell_type": "code",
   "execution_count": 58,
   "metadata": {},
   "outputs": [
    {
     "data": {
      "text/plain": [
       "Chi2ContingencyResult(statistic=243.76039250232145, pvalue=5.953852540364001e-55, dof=1, expected_freq=array([[3861.2587,  987.7413],\n",
       "       [4101.7413, 1049.2587]]))"
      ]
     },
     "execution_count": 58,
     "metadata": {},
     "output_type": "execute_result"
    }
   ],
   "source": [
    "chi = np.array([counts.iloc[0, :].tolist(), \n",
    "                counts.iloc[1, :].tolist()])\n",
    "scipy.stats.chi2_contingency(chi, correction = False)"
   ]
  },
  {
   "cell_type": "code",
   "execution_count": 60,
   "metadata": {},
   "outputs": [
    {
     "data": {
      "text/plain": [
       "'p_value: 0.0000000000000000000000000000000000000000000000000000006'"
      ]
     },
     "execution_count": 60,
     "metadata": {},
     "output_type": "execute_result"
    }
   ],
   "source": [
    "p = scipy.stats.chi2_contingency(chi, correction = False)[1]\n",
    "f'p_value: {p:.55f}'"
   ]
  },
  {
   "cell_type": "markdown",
   "metadata": {},
   "source": [
    "#### 性別-流失"
   ]
  },
  {
   "cell_type": "code",
   "execution_count": 40,
   "metadata": {},
   "outputs": [
    {
     "data": {
      "image/png": "[encoded data removed]",
      "text/plain": [
       "<Figure size 432x288 with 1 Axes>"
      ]
     },
     "metadata": {
      "needs_background": "light"
     },
     "output_type": "display_data"
    }
   ],
   "source": [
    "plt.rcParams['font.sans-serif'] = ['Microsoft JhengHei']\n",
    "plt.rcParams['axes.unicode_minus'] = False\n",
    "plt.rcParams.update({'font.size': 11})\n",
    "\n",
    "counts = df_copy.groupby(['Gender', 'Exited']).size().unstack(fill_value = 0)\n",
    "\n",
    "sns.set_palette(sns.color_palette(['skyblue', 'pink']))\n",
    "counts.plot(kind = 'bar', stacked = True, width = 0.8) \n",
    "\n",
    "\n",
    "for i, category in enumerate(counts.index):\n",
    "    total_count = counts.loc[category].sum()\n",
    "    bottom = 0\n",
    "    for j, col_label in enumerate(counts.columns):\n",
    "        count = counts.loc[category, col_label]\n",
    "        plt.text(i, bottom + count/2, str(count), ha='center', color='black')\n",
    "        bottom += count\n",
    "\n",
    "\n",
    "plt.xlabel('客戶性別', fontsize = 13)\n",
    "plt.ylabel('人數', fontsize = 13)\n",
    "plt.legend(['未流失', '流失'], title='流失情況', fontsize=10)\n",
    "plt.xticks(fontsize=10, rotation = 0)\n",
    "plt.yticks(fontsize=10)\n",
    "\n",
    "plt.show()"
   ]
  },
  {
   "cell_type": "code",
   "execution_count": 55,
   "metadata": {},
   "outputs": [
    {
     "data": {
      "text/plain": [
       "Chi2ContingencyResult(statistic=113.44910030392086, pvalue=1.7204149874840846e-26, dof=1, expected_freq=array([[3617.5909,  925.4091],\n",
       "       [4345.4091, 1111.5909]]))"
      ]
     },
     "execution_count": 55,
     "metadata": {},
     "output_type": "execute_result"
    }
   ],
   "source": [
    "chi = np.array([counts.iloc[0, :].tolist(), \n",
    "                counts.iloc[1, :].tolist()])\n",
    "scipy.stats.chi2_contingency(chi, correction = False)"
   ]
  },
  {
   "cell_type": "code",
   "execution_count": 56,
   "metadata": {},
   "outputs": [
    {
     "data": {
      "text/plain": [
       "'p_value: 0.00000000000000000000000001720414987484084557387985'"
      ]
     },
     "execution_count": 56,
     "metadata": {},
     "output_type": "execute_result"
    }
   ],
   "source": [
    "p = scipy.stats.chi2_contingency(chi, correction = False)[1]\n",
    "f'p_value: {p:.50f}'"
   ]
  },
  {
   "cell_type": "markdown",
   "metadata": {},
   "source": [
    "#### 年齡-流失"
   ]
  },
  {
   "cell_type": "code",
   "execution_count": 69,
   "metadata": {},
   "outputs": [
    {
     "data": {
      "image/png": "[encoded data removed]",
      "text/plain": [
       "<Figure size 432x288 with 1 Axes>"
      ]
     },
     "metadata": {
      "needs_background": "light"
     },
     "output_type": "display_data"
    }
   ],
   "source": [
    "sns.boxplot(x = 'Exited', y = 'Age', data = df_copy)\n",
    "\n",
    "q1_exited = df_copy[df_copy['Exited'] == '1']['Age'].quantile(0.25)\n",
    "q3_exited = df_copy[df_copy['Exited'] == '1']['Age'].quantile(0.75)\n",
    "median_exited = df_copy[df_copy['Exited'] == '1']['Age'].median()\n",
    "\n",
    "q1_not_exited = df_copy[df_copy['Exited'] == '0']['Age'].quantile(0.25)\n",
    "q3_not_exited = df_copy[df_copy['Exited'] == '0']['Age'].quantile(0.75)\n",
    "median_not_exited = df_copy[df_copy['Exited'] == '0']['Age'].median()\n",
    "\n",
    "\n",
    "plt.text(0, q1_exited, f'Q1: {q1_exited}', verticalalignment='bottom', fontsize=12, color='blue')\n",
    "plt.text(0, q3_exited, f'Q3: {q3_exited}', verticalalignment='bottom', fontsize=12, color='blue')\n",
    "plt.text(0, median_exited, f'Median: {median_exited}', verticalalignment='bottom', fontsize=12, color='red')\n",
    "\n",
    "plt.text(1, q1_not_exited, f'Q1: {q1_not_exited}', verticalalignment='bottom', fontsize=12, color='blue')\n",
    "plt.text(1, q3_not_exited, f'Q3: {q3_not_exited}', verticalalignment='bottom', fontsize=12, color='blue')\n",
    "plt.text(1, median_not_exited, f'Median: {median_not_exited}', verticalalignment='bottom', fontsize=12, color='red')\n",
    "\n",
    "plt.xlabel('流失情況')  \n",
    "plt.ylabel('年齡')\n",
    "plt.xticks(ticks = [0, 1], labels = ['流失', '非流失'])\n",
    "# plt.title('年齡分布')\n",
    "\n",
    "plt.show()"
   ]
  },
  {
   "cell_type": "code",
   "execution_count": 67,
   "metadata": {},
   "outputs": [
    {
     "data": {
      "image/png": "[encoded data removed]",
      "text/plain": [
       "<Figure size 432x288 with 1 Axes>"
      ]
     },
     "metadata": {
      "needs_background": "light"
     },
     "output_type": "display_data"
    }
   ],
   "source": [
    "sns.histplot(data = df_copy, x='Age', bins=20, hue='Exited', palette='Set1')\n",
    "\n",
    "plt.xlabel('年齡')\n",
    "plt.ylabel('人數')\n",
    "#plt.title('信用評分分佈')\n",
    "\n",
    "plt.show()"
   ]
  },
  {
   "cell_type": "markdown",
   "metadata": {},
   "source": [
    "#### 性別-活躍客戶"
   ]
  },
  {
   "cell_type": "code",
   "execution_count": 81,
   "metadata": {},
   "outputs": [
    {
     "data": {
      "image/png": "[encoded data removed]",
      "text/plain": [
       "<Figure size 432x288 with 1 Axes>"
      ]
     },
     "metadata": {
      "needs_background": "light"
     },
     "output_type": "display_data"
    }
   ],
   "source": [
    "def add_bar_labels(ax):\n",
    "    for container in ax.containers:\n",
    "        ax.bar_label(container, label_type='edge')\n",
    "counts = df_copy.groupby(['Gender', 'IsActiveMember']).size().unstack(fill_value = 0)\n",
    "\n",
    "sns.set_palette(sns.color_palette(['skyblue', 'pink']))\n",
    "ax = counts.plot(kind = 'bar', stacked = False, width = 0.8)\n",
    "add_bar_labels(ax)\n",
    "\n",
    "plt.xlabel('性別', fontsize = 13)\n",
    "plt.ylabel('人數', fontsize = 13)\n",
    "plt.legend(['否', '是'], title='活躍客戶', fontsize=10)\n",
    "plt.xticks(fontsize=10, rotation = 0)\n",
    "plt.yticks(fontsize=10)\n",
    "plt.ylim(0, 3500)\n",
    "\n",
    "plt.show()"
   ]
  },
  {
   "cell_type": "markdown",
   "metadata": {},
   "source": [
    "#### 活躍客戶-年齡"
   ]
  },
  {
   "cell_type": "code",
   "execution_count": 12,
   "metadata": {},
   "outputs": [
    {
     "data": {
      "image/png": "[encoded data removed]",
      "text/plain": [
       "<Figure size 720x432 with 1 Axes>"
      ]
     },
     "metadata": {
      "needs_background": "light"
     },
     "output_type": "display_data"
    }
   ],
   "source": [
    "active_users = df_copy[df_copy['IsActiveMember'] == '1']\n",
    "inactive_users = df_copy[df_copy['IsActiveMember'] == '0']\n",
    "\n",
    "plt.figure(figsize = (10, 6))\n",
    "sns.kdeplot(active_users['Age'], color = 'blue', label = '活躍用戶', fill=True)\n",
    "sns.kdeplot(inactive_users['Age'], color = 'red', label = '非活躍用戶', fill=True)\n",
    "plt.xlabel('年齡', fontsize = 15)\n",
    "plt.ylabel('Density', fontsize = 15)\n",
    "# plt.title('Age Distribution of Active and Inactive Users')\n",
    "plt.legend()\n",
    "plt.show()"
   ]
  },
  {
   "cell_type": "markdown",
   "metadata": {},
   "source": [
    "#### 產品數量-性別"
   ]
  },
  {
   "cell_type": "code",
   "execution_count": 96,
   "metadata": {},
   "outputs": [
    {
     "data": {
      "image/png": "[encoded data removed]",
      "text/plain": [
       "<Figure size 432x288 with 1 Axes>"
      ]
     },
     "metadata": {
      "needs_background": "light"
     },
     "output_type": "display_data"
    }
   ],
   "source": [
    "def add_bar_labels(ax):\n",
    "    for container in ax.containers:\n",
    "        ax.bar_label(container, label_type='edge')\n",
    "counts = df_copy.groupby(['NumOfProducts', 'Gender']).size().unstack(fill_value = 0)\n",
    "\n",
    "sns.set_palette(sns.color_palette(['pink', 'skyblue']))\n",
    "ax = counts.plot(kind = 'bar', stacked = False, width = 0.8)\n",
    "add_bar_labels(ax)\n",
    "\n",
    "plt.xlabel('產品數量', fontsize = 13)\n",
    "plt.ylabel('人數', fontsize = 13)\n",
    "plt.legend(['女', '男'], title='性別', fontsize=10)\n",
    "plt.xticks(fontsize=10, rotation = 0)\n",
    "plt.yticks(fontsize=10)\n",
    "plt.ylim(0, 3500)\n",
    "\n",
    "plt.show()"
   ]
  },
  {
   "cell_type": "markdown",
   "metadata": {},
   "source": [
    "### 訓練模型"
   ]
  },
  {
   "cell_type": "code",
   "execution_count": 6,
   "metadata": {},
   "outputs": [
    {
     "data": {
      "image/png": "[encoded data removed]",
      "text/plain": [
       "<Figure size 432x288 with 1 Axes>"
      ]
     },
     "metadata": {},
     "output_type": "display_data"
    }
   ],
   "source": [
    "category_counts = df['Exited'].value_counts(normalize=True)\n",
    "\n",
    "# 取得類別標籤和比例值\n",
    "labels = category_counts.index.tolist()\n",
    "sizes = category_counts.values.tolist()\n",
    "\n",
    "plt.pie(sizes, autopct = '%1.1f%%', colors = ['skyblue', 'pink'], startangle = 140, explode = (0, 0.15), pctdistance = 0.74, textprops = {'fontweight': 'bold'})\n",
    "centre_circle = plt.Circle((0,0), 0.6, fc = 'white')\n",
    "fig = plt.gcf()\n",
    "fig.gca().add_artist(centre_circle)\n",
    "\n",
    "plt.text(0, 0, '流失率', ha = 'center', fontsize = 15, fontweight = 'bold', color = 'black')\n",
    "plt.text(0, -0.2, '(1:4)', ha = 'center', fontsize = 11, fontweight = 'bold', color = 'black')\n",
    "plt.axis('equal')\n",
    "plt.legend(['非流失', '流失'], title = '流失狀況')\n",
    "plt.show()"
   ]
  },
  {
   "cell_type": "code",
   "execution_count": 26,
   "metadata": {},
   "outputs": [],
   "source": [
    "from sklearn.model_selection import cross_val_score\n",
    "from sklearn.experimental import enable_halving_search_cv\n",
    "from sklearn.model_selection import HalvingGridSearchCV\n",
    "from sklearn.metrics import accuracy_score, recall_score, precision_score, f1_score, roc_auc_score\n",
    "from sklearn.preprocessing import LabelEncoder\n",
    "\n",
    "from sklearn.model_selection import train_test_split\n",
    "from sklearn.preprocessing import StandardScaler\n",
    "from sklearn.linear_model import LogisticRegression\n",
    "from sklearn.metrics import confusion_matrix, accuracy_score, ConfusionMatrixDisplay\n",
    "from sklearn import metrics"
   ]
  },
  {
   "cell_type": "code",
   "execution_count": 27,
   "metadata": {},
   "outputs": [
    {
     "name": "stdout",
     "output_type": "stream",
     "text": [
      "Geography  :  [0 2 1]  =  ['France' 'Spain' 'Germany']\n"
     ]
    }
   ],
   "source": [
    "lb = LabelEncoder()\n",
    "a = ['Geography']\n",
    "#encoded_data = lb.fit_transform(df['Geography'])\n",
    "for i in a :\n",
    "    df[i] = lb.fit_transform(df[i])\n",
    "    print(i,' : ',df[i].unique(),' = ',lb.inverse_transform(df[i].unique())) "
   ]
  },
  {
   "cell_type": "code",
   "execution_count": 28,
   "metadata": {},
   "outputs": [
    {
     "data": {
      "text/html": [
       "<div>\n",
       "<style scoped>\n",
       "    .dataframe tbody tr th:only-of-type {\n",
       "        vertical-align: middle;\n",
       "    }\n",
       "\n",
       "    .dataframe tbody tr th {\n",
       "        vertical-align: top;\n",
       "    }\n",
       "\n",
       "    .dataframe thead th {\n",
       "        text-align: right;\n",
       "    }\n",
       "</style>\n",
       "<table border=\"1\" class=\"dataframe\">\n",
       "  <thead>\n",
       "    <tr style=\"text-align: right;\">\n",
       "      <th></th>\n",
       "      <th>CreditScore</th>\n",
       "      <th>Geography</th>\n",
       "      <th>Gender</th>\n",
       "      <th>Age</th>\n",
       "      <th>Tenure</th>\n",
       "      <th>Balance</th>\n",
       "      <th>NumOfProducts</th>\n",
       "      <th>HasCrCard</th>\n",
       "      <th>IsActiveMember</th>\n",
       "      <th>EstimatedSalary</th>\n",
       "      <th>Exited</th>\n",
       "    </tr>\n",
       "  </thead>\n",
       "  <tbody>\n",
       "    <tr>\n",
       "      <th>0</th>\n",
       "      <td>619</td>\n",
       "      <td>0</td>\n",
       "      <td>1</td>\n",
       "      <td>42</td>\n",
       "      <td>2</td>\n",
       "      <td>0.00</td>\n",
       "      <td>1</td>\n",
       "      <td>1</td>\n",
       "      <td>1</td>\n",
       "      <td>101348.88</td>\n",
       "      <td>1</td>\n",
       "    </tr>\n",
       "    <tr>\n",
       "      <th>1</th>\n",
       "      <td>608</td>\n",
       "      <td>2</td>\n",
       "      <td>1</td>\n",
       "      <td>41</td>\n",
       "      <td>1</td>\n",
       "      <td>83807.86</td>\n",
       "      <td>1</td>\n",
       "      <td>0</td>\n",
       "      <td>1</td>\n",
       "      <td>112542.58</td>\n",
       "      <td>0</td>\n",
       "    </tr>\n",
       "    <tr>\n",
       "      <th>2</th>\n",
       "      <td>502</td>\n",
       "      <td>0</td>\n",
       "      <td>1</td>\n",
       "      <td>42</td>\n",
       "      <td>8</td>\n",
       "      <td>159660.80</td>\n",
       "      <td>3</td>\n",
       "      <td>1</td>\n",
       "      <td>0</td>\n",
       "      <td>113931.57</td>\n",
       "      <td>1</td>\n",
       "    </tr>\n",
       "    <tr>\n",
       "      <th>3</th>\n",
       "      <td>699</td>\n",
       "      <td>0</td>\n",
       "      <td>1</td>\n",
       "      <td>39</td>\n",
       "      <td>1</td>\n",
       "      <td>0.00</td>\n",
       "      <td>2</td>\n",
       "      <td>0</td>\n",
       "      <td>0</td>\n",
       "      <td>93826.63</td>\n",
       "      <td>0</td>\n",
       "    </tr>\n",
       "    <tr>\n",
       "      <th>4</th>\n",
       "      <td>850</td>\n",
       "      <td>2</td>\n",
       "      <td>1</td>\n",
       "      <td>43</td>\n",
       "      <td>2</td>\n",
       "      <td>125510.82</td>\n",
       "      <td>1</td>\n",
       "      <td>1</td>\n",
       "      <td>1</td>\n",
       "      <td>79084.10</td>\n",
       "      <td>0</td>\n",
       "    </tr>\n",
       "    <tr>\n",
       "      <th>...</th>\n",
       "      <td>...</td>\n",
       "      <td>...</td>\n",
       "      <td>...</td>\n",
       "      <td>...</td>\n",
       "      <td>...</td>\n",
       "      <td>...</td>\n",
       "      <td>...</td>\n",
       "      <td>...</td>\n",
       "      <td>...</td>\n",
       "      <td>...</td>\n",
       "      <td>...</td>\n",
       "    </tr>\n",
       "    <tr>\n",
       "      <th>9995</th>\n",
       "      <td>771</td>\n",
       "      <td>0</td>\n",
       "      <td>0</td>\n",
       "      <td>39</td>\n",
       "      <td>5</td>\n",
       "      <td>0.00</td>\n",
       "      <td>2</td>\n",
       "      <td>1</td>\n",
       "      <td>0</td>\n",
       "      <td>96270.64</td>\n",
       "      <td>0</td>\n",
       "    </tr>\n",
       "    <tr>\n",
       "      <th>9996</th>\n",
       "      <td>516</td>\n",
       "      <td>0</td>\n",
       "      <td>0</td>\n",
       "      <td>35</td>\n",
       "      <td>10</td>\n",
       "      <td>57369.61</td>\n",
       "      <td>1</td>\n",
       "      <td>1</td>\n",
       "      <td>1</td>\n",
       "      <td>101699.77</td>\n",
       "      <td>0</td>\n",
       "    </tr>\n",
       "    <tr>\n",
       "      <th>9997</th>\n",
       "      <td>709</td>\n",
       "      <td>0</td>\n",
       "      <td>1</td>\n",
       "      <td>36</td>\n",
       "      <td>7</td>\n",
       "      <td>0.00</td>\n",
       "      <td>1</td>\n",
       "      <td>0</td>\n",
       "      <td>1</td>\n",
       "      <td>42085.58</td>\n",
       "      <td>1</td>\n",
       "    </tr>\n",
       "    <tr>\n",
       "      <th>9998</th>\n",
       "      <td>772</td>\n",
       "      <td>1</td>\n",
       "      <td>0</td>\n",
       "      <td>42</td>\n",
       "      <td>3</td>\n",
       "      <td>75075.31</td>\n",
       "      <td>2</td>\n",
       "      <td>1</td>\n",
       "      <td>0</td>\n",
       "      <td>92888.52</td>\n",
       "      <td>1</td>\n",
       "    </tr>\n",
       "    <tr>\n",
       "      <th>9999</th>\n",
       "      <td>792</td>\n",
       "      <td>0</td>\n",
       "      <td>1</td>\n",
       "      <td>28</td>\n",
       "      <td>4</td>\n",
       "      <td>130142.79</td>\n",
       "      <td>1</td>\n",
       "      <td>1</td>\n",
       "      <td>0</td>\n",
       "      <td>38190.78</td>\n",
       "      <td>0</td>\n",
       "    </tr>\n",
       "  </tbody>\n",
       "</table>\n",
       "<p>10000 rows × 11 columns</p>\n",
       "</div>"
      ],
      "text/plain": [
       "      CreditScore  Geography  Gender  Age  Tenure    Balance  NumOfProducts  \\\n",
       "0             619          0       1   42       2       0.00              1   \n",
       "1             608          2       1   41       1   83807.86              1   \n",
       "2             502          0       1   42       8  159660.80              3   \n",
       "3             699          0       1   39       1       0.00              2   \n",
       "4             850          2       1   43       2  125510.82              1   \n",
       "...           ...        ...     ...  ...     ...        ...            ...   \n",
       "9995          771          0       0   39       5       0.00              2   \n",
       "9996          516          0       0   35      10   57369.61              1   \n",
       "9997          709          0       1   36       7       0.00              1   \n",
       "9998          772          1       0   42       3   75075.31              2   \n",
       "9999          792          0       1   28       4  130142.79              1   \n",
       "\n",
       "      HasCrCard  IsActiveMember  EstimatedSalary  Exited  \n",
       "0             1               1        101348.88       1  \n",
       "1             0               1        112542.58       0  \n",
       "2             1               0        113931.57       1  \n",
       "3             0               0         93826.63       0  \n",
       "4             1               1         79084.10       0  \n",
       "...         ...             ...              ...     ...  \n",
       "9995          1               0         96270.64       0  \n",
       "9996          1               1        101699.77       0  \n",
       "9997          0               1         42085.58       1  \n",
       "9998          1               0         92888.52       1  \n",
       "9999          1               0         38190.78       0  \n",
       "\n",
       "[10000 rows x 11 columns]"
      ]
     },
     "execution_count": 28,
     "metadata": {},
     "output_type": "execute_result"
    }
   ],
   "source": [
    "# Female = 1; Male = 0\n",
    "def gender_convert(x):\n",
    "    if x == 'Female':\n",
    "        return 1\n",
    "    else:\n",
    "        return 0\n",
    "df['Gender'] = df['Gender'].apply(gender_convert)\n",
    "df"
   ]
  },
  {
   "cell_type": "code",
   "execution_count": 29,
   "metadata": {},
   "outputs": [
    {
     "data": {
      "text/html": [
       "<div>\n",
       "<style scoped>\n",
       "    .dataframe tbody tr th:only-of-type {\n",
       "        vertical-align: middle;\n",
       "    }\n",
       "\n",
       "    .dataframe tbody tr th {\n",
       "        vertical-align: top;\n",
       "    }\n",
       "\n",
       "    .dataframe thead th {\n",
       "        text-align: right;\n",
       "    }\n",
       "</style>\n",
       "<table border=\"1\" class=\"dataframe\">\n",
       "  <thead>\n",
       "    <tr style=\"text-align: right;\">\n",
       "      <th></th>\n",
       "      <th>CreditScore</th>\n",
       "      <th>Geography</th>\n",
       "      <th>Gender</th>\n",
       "      <th>Age</th>\n",
       "      <th>Tenure</th>\n",
       "      <th>Balance</th>\n",
       "      <th>NumOfProducts</th>\n",
       "      <th>IsActiveMember</th>\n",
       "      <th>EstimatedSalary</th>\n",
       "      <th>Exited</th>\n",
       "    </tr>\n",
       "  </thead>\n",
       "  <tbody>\n",
       "    <tr>\n",
       "      <th>0</th>\n",
       "      <td>619</td>\n",
       "      <td>0</td>\n",
       "      <td>1</td>\n",
       "      <td>42</td>\n",
       "      <td>2</td>\n",
       "      <td>0.00</td>\n",
       "      <td>1</td>\n",
       "      <td>1</td>\n",
       "      <td>101348.88</td>\n",
       "      <td>1</td>\n",
       "    </tr>\n",
       "    <tr>\n",
       "      <th>1</th>\n",
       "      <td>608</td>\n",
       "      <td>2</td>\n",
       "      <td>1</td>\n",
       "      <td>41</td>\n",
       "      <td>1</td>\n",
       "      <td>83807.86</td>\n",
       "      <td>1</td>\n",
       "      <td>1</td>\n",
       "      <td>112542.58</td>\n",
       "      <td>0</td>\n",
       "    </tr>\n",
       "    <tr>\n",
       "      <th>2</th>\n",
       "      <td>502</td>\n",
       "      <td>0</td>\n",
       "      <td>1</td>\n",
       "      <td>42</td>\n",
       "      <td>8</td>\n",
       "      <td>159660.80</td>\n",
       "      <td>3</td>\n",
       "      <td>0</td>\n",
       "      <td>113931.57</td>\n",
       "      <td>1</td>\n",
       "    </tr>\n",
       "    <tr>\n",
       "      <th>3</th>\n",
       "      <td>699</td>\n",
       "      <td>0</td>\n",
       "      <td>1</td>\n",
       "      <td>39</td>\n",
       "      <td>1</td>\n",
       "      <td>0.00</td>\n",
       "      <td>2</td>\n",
       "      <td>0</td>\n",
       "      <td>93826.63</td>\n",
       "      <td>0</td>\n",
       "    </tr>\n",
       "    <tr>\n",
       "      <th>4</th>\n",
       "      <td>850</td>\n",
       "      <td>2</td>\n",
       "      <td>1</td>\n",
       "      <td>43</td>\n",
       "      <td>2</td>\n",
       "      <td>125510.82</td>\n",
       "      <td>1</td>\n",
       "      <td>1</td>\n",
       "      <td>79084.10</td>\n",
       "      <td>0</td>\n",
       "    </tr>\n",
       "    <tr>\n",
       "      <th>...</th>\n",
       "      <td>...</td>\n",
       "      <td>...</td>\n",
       "      <td>...</td>\n",
       "      <td>...</td>\n",
       "      <td>...</td>\n",
       "      <td>...</td>\n",
       "      <td>...</td>\n",
       "      <td>...</td>\n",
       "      <td>...</td>\n",
       "      <td>...</td>\n",
       "    </tr>\n",
       "    <tr>\n",
       "      <th>9995</th>\n",
       "      <td>771</td>\n",
       "      <td>0</td>\n",
       "      <td>0</td>\n",
       "      <td>39</td>\n",
       "      <td>5</td>\n",
       "      <td>0.00</td>\n",
       "      <td>2</td>\n",
       "      <td>0</td>\n",
       "      <td>96270.64</td>\n",
       "      <td>0</td>\n",
       "    </tr>\n",
       "    <tr>\n",
       "      <th>9996</th>\n",
       "      <td>516</td>\n",
       "      <td>0</td>\n",
       "      <td>0</td>\n",
       "      <td>35</td>\n",
       "      <td>10</td>\n",
       "      <td>57369.61</td>\n",
       "      <td>1</td>\n",
       "      <td>1</td>\n",
       "      <td>101699.77</td>\n",
       "      <td>0</td>\n",
       "    </tr>\n",
       "    <tr>\n",
       "      <th>9997</th>\n",
       "      <td>709</td>\n",
       "      <td>0</td>\n",
       "      <td>1</td>\n",
       "      <td>36</td>\n",
       "      <td>7</td>\n",
       "      <td>0.00</td>\n",
       "      <td>1</td>\n",
       "      <td>1</td>\n",
       "      <td>42085.58</td>\n",
       "      <td>1</td>\n",
       "    </tr>\n",
       "    <tr>\n",
       "      <th>9998</th>\n",
       "      <td>772</td>\n",
       "      <td>1</td>\n",
       "      <td>0</td>\n",
       "      <td>42</td>\n",
       "      <td>3</td>\n",
       "      <td>75075.31</td>\n",
       "      <td>2</td>\n",
       "      <td>0</td>\n",
       "      <td>92888.52</td>\n",
       "      <td>1</td>\n",
       "    </tr>\n",
       "    <tr>\n",
       "      <th>9999</th>\n",
       "      <td>792</td>\n",
       "      <td>0</td>\n",
       "      <td>1</td>\n",
       "      <td>28</td>\n",
       "      <td>4</td>\n",
       "      <td>130142.79</td>\n",
       "      <td>1</td>\n",
       "      <td>0</td>\n",
       "      <td>38190.78</td>\n",
       "      <td>0</td>\n",
       "    </tr>\n",
       "  </tbody>\n",
       "</table>\n",
       "<p>10000 rows × 10 columns</p>\n",
       "</div>"
      ],
      "text/plain": [
       "      CreditScore  Geography  Gender  Age  Tenure    Balance  NumOfProducts  \\\n",
       "0             619          0       1   42       2       0.00              1   \n",
       "1             608          2       1   41       1   83807.86              1   \n",
       "2             502          0       1   42       8  159660.80              3   \n",
       "3             699          0       1   39       1       0.00              2   \n",
       "4             850          2       1   43       2  125510.82              1   \n",
       "...           ...        ...     ...  ...     ...        ...            ...   \n",
       "9995          771          0       0   39       5       0.00              2   \n",
       "9996          516          0       0   35      10   57369.61              1   \n",
       "9997          709          0       1   36       7       0.00              1   \n",
       "9998          772          1       0   42       3   75075.31              2   \n",
       "9999          792          0       1   28       4  130142.79              1   \n",
       "\n",
       "      IsActiveMember  EstimatedSalary  Exited  \n",
       "0                  1        101348.88       1  \n",
       "1                  1        112542.58       0  \n",
       "2                  0        113931.57       1  \n",
       "3                  0         93826.63       0  \n",
       "4                  1         79084.10       0  \n",
       "...              ...              ...     ...  \n",
       "9995               0         96270.64       0  \n",
       "9996               1        101699.77       0  \n",
       "9997               1         42085.58       1  \n",
       "9998               0         92888.52       1  \n",
       "9999               0         38190.78       0  \n",
       "\n",
       "[10000 rows x 10 columns]"
      ]
     },
     "execution_count": 29,
     "metadata": {},
     "output_type": "execute_result"
    }
   ],
   "source": [
    "df = df[['CreditScore', 'Geography', 'Gender', 'Age', 'Tenure', 'Balance', 'NumOfProducts', 'HasCrCard', 'IsActiveMember', 'EstimatedSalary', 'Exited']]\n",
    "df = df.drop(columns = 'HasCrCard')\n",
    "df"
   ]
  },
  {
   "cell_type": "code",
   "execution_count": 30,
   "metadata": {},
   "outputs": [],
   "source": [
    "X = df.drop(['Exited'], axis=1)\n",
    "y = df['Exited']"
   ]
  },
  {
   "cell_type": "code",
   "execution_count": 31,
   "metadata": {},
   "outputs": [],
   "source": [
    "#ros = RandomOverSampler(sampling_strategy = 1)\n",
    "\n",
    "#X, y = ros.fit_resample(X, y)\n",
    "x_train, x_test, y_train, y_test = train_test_split(X, y, test_size = 0.3)"
   ]
  },
  {
   "cell_type": "code",
   "execution_count": 32,
   "metadata": {},
   "outputs": [],
   "source": [
    "scaler = StandardScaler()\n",
    "\n",
    "X_train = scaler.fit_transform(x_train)\n",
    "X_test = scaler.transform(x_test)"
   ]
  },
  {
   "cell_type": "code",
   "execution_count": 69,
   "metadata": {},
   "outputs": [
    {
     "name": "stdout",
     "output_type": "stream",
     "text": [
      "Accuracy: 80.13 %\n"
     ]
    },
    {
     "data": {
      "image/png": "[encoded data removed]",
      "text/plain": [
       "<Figure size 432x288 with 2 Axes>"
      ]
     },
     "metadata": {
      "needs_background": "light"
     },
     "output_type": "display_data"
    },
    {
     "name": "stdout",
     "output_type": "stream",
     "text": [
      "Accuracy: 79.00 %\n",
      "Standard Deviation: 0.35 %\n",
      "Precision: 39.00 %\n",
      "Recall: 5.69 %\n",
      "F1: 9.93 %\n"
     ]
    }
   ],
   "source": [
    "model_lr = LogisticRegression()\n",
    "model_lr.fit(X_train, y_train)\n",
    "\n",
    "y_pred_lr = model_lr.predict(X_test)\n",
    "cm = metrics.confusion_matrix(y_test, y_pred_lr)\n",
    "\n",
    "print(\"Accuracy: {:.2f} %\".format(accuracy_score(y_test.astype('int'), y_pred_lr.astype('int'))*100))\n",
    "disp = ConfusionMatrixDisplay(confusion_matrix=cm, display_labels = [0, 1])\n",
    "disp.plot()\n",
    "plt.title(\"LogisticRegression\")\n",
    "plt.show()\n",
    "\n",
    "# Applying k-Fold Cross Validation\n",
    "from sklearn.model_selection import cross_val_score\n",
    "cv_accuracy_0 = cross_val_score(estimator = model_lr, X = X_train, y = y_train, cv = 10)\n",
    "cv_precision_0 = cross_val_score(estimator = model_lr, X = X_train, y = y_train, cv = 10, scoring='precision')\n",
    "cv_recall_0 = cross_val_score(estimator = model_lr, X = X_train, y = y_train, cv = 10, scoring='recall')\n",
    "cv_f1_0 = cross_val_score(estimator = model_lr, X = X_train, y = y_train, cv = 10, scoring='f1')\n",
    "#cv_roc_0 = cross_val_score(estimator = model_lr, X = X_train, y = y_train, cv = 10, scoring='roc_auc')\n",
    "# print(cv_accuracy_0)\n",
    "print('Accuracy: {:.2f} %'.format(cv_accuracy_0.mean()*100))\n",
    "print('Standard Deviation: {:.2f} %'.format(cv_accuracy_0.std()*100))\n",
    "print('Precision: {:.2f} %'.format(cv_precision_0.mean()*100))\n",
    "print('Recall: {:.2f} %'.format(cv_recall_0.mean()*100))\n",
    "print('F1: {:.2f} %'.format(cv_f1_0.mean()*100))\n",
    "#print('ROC_AUC: {:.2f} %'.format(cv_roc_0.mean()*100))"
   ]
  },
  {
   "cell_type": "code",
   "execution_count": 70,
   "metadata": {},
   "outputs": [
    {
     "name": "stdout",
     "output_type": "stream",
     "text": [
      "0.8013333333333333\n",
      "0.6132596685082873\n",
      "0.17425431711145997\n",
      "0.27139364303178487\n"
     ]
    }
   ],
   "source": [
    "accuracy_0 = accuracy_score(y_test, y_pred_lr)\n",
    "precision_0 = precision_score(y_test, y_pred_lr)\n",
    "recall_0 = recall_score(y_test, y_pred_lr)\n",
    "f1_0 = f1_score(y_test, y_pred_lr)\n",
    "print(accuracy_0)\n",
    "print(precision_0)\n",
    "print(recall_0)\n",
    "print(f1_0)"
   ]
  },
  {
   "cell_type": "code",
   "execution_count": 71,
   "metadata": {},
   "outputs": [
    {
     "name": "stdout",
     "output_type": "stream",
     "text": [
      "n_iterations: 6\n",
      "n_required_iterations: 6\n",
      "n_possible_iterations: 6\n",
      "min_resources_: 28\n",
      "max_resources_: 7000\n",
      "aggressive_elimination: False\n",
      "factor: 3\n",
      "----------\n",
      "iter: 0\n",
      "n_candidates: 552\n",
      "n_resources: 28\n",
      "Fitting 5 folds for each of 552 candidates, totalling 2760 fits\n",
      "----------\n",
      "iter: 1\n",
      "n_candidates: 184\n",
      "n_resources: 84\n",
      "Fitting 5 folds for each of 184 candidates, totalling 920 fits\n",
      "----------\n",
      "iter: 2\n",
      "n_candidates: 62\n",
      "n_resources: 252\n",
      "Fitting 5 folds for each of 62 candidates, totalling 310 fits\n",
      "----------\n",
      "iter: 3\n",
      "n_candidates: 21\n",
      "n_resources: 756\n",
      "Fitting 5 folds for each of 21 candidates, totalling 105 fits\n",
      "----------\n",
      "iter: 4\n",
      "n_candidates: 7\n",
      "n_resources: 2268\n",
      "Fitting 5 folds for each of 7 candidates, totalling 35 fits\n",
      "----------\n",
      "iter: 5\n",
      "n_candidates: 3\n",
      "n_resources: 6804\n",
      "Fitting 5 folds for each of 3 candidates, totalling 15 fits\n",
      "tuned hpyerparameters :(best parameters)  {'C': 46.41588833612782, 'max_iter': 10000, 'penalty': 'l1', 'solver': 'liblinear'}\n",
      "f1 score : 0.2374073024222166\n"
     ]
    }
   ],
   "source": [
    "import warnings\n",
    "warnings.filterwarnings('ignore')\n",
    "import numpy as np\n",
    "\n",
    "model_lr = LogisticRegression()\n",
    "grid = [{'solver':['lbfgs', 'newton-cg', 'sag', 'saga'], 'penalty':['none'],\n",
    "                  \"max_iter\":[1000,5000,10000]}, \n",
    "                 {'solver':['lbfgs', 'newton-cg', 'sag'], 'penalty':['l2'], \n",
    "                  'C': np.logspace(-5, 5, 10), \"max_iter\":[1000,5000,10000]},\n",
    "                 {'solver':['liblinear', 'saga'], 'penalty': ['l1', 'l2'], \n",
    "                  'C': np.logspace(-5, 5, 10), \"max_iter\":[1000,5000,10000]},\n",
    "                 {'solver':['saga'], 'penalty':['elasticnet'], 'C': np.logspace(-5, 5, 10),\n",
    "                  'l1_ratio': np.arange(0,1.1,0.1), \"max_iter\":[1000,5000,10000]}]  \n",
    "\n",
    "model_grid = HalvingGridSearchCV(model_lr, grid, random_state=42, verbose=1,\n",
    "                                         scoring='f1',return_train_score=True)\n",
    "model_grid.fit(X_train,y_train)\n",
    "print(\"tuned hpyerparameters :(best parameters) \", model_grid.best_params_)\n",
    "print(\"f1 score :\", model_grid.best_score_)"
   ]
  },
  {
   "cell_type": "code",
   "execution_count": 72,
   "metadata": {},
   "outputs": [
    {
     "name": "stdout",
     "output_type": "stream",
     "text": [
      "Accuracy: 80.13 %\n"
     ]
    },
    {
     "data": {
      "image/png": "[encoded data removed]",
      "text/plain": [
       "<Figure size 432x288 with 2 Axes>"
      ]
     },
     "metadata": {
      "needs_background": "light"
     },
     "output_type": "display_data"
    },
    {
     "name": "stdout",
     "output_type": "stream",
     "text": [
      "Accuracy: 80.84 %\n",
      "Standard Deviation: 0.73 %\n",
      "Precision: 60.07 %\n",
      "Recall: 17.87 %\n",
      "F1: 27.49 %\n"
     ]
    }
   ],
   "source": [
    "model_lr = LogisticRegression(C = 46.41588833612782, max_iter = 10000, penalty = 'l1', solver = 'liblinear')\n",
    "model_lr.fit(X_train, y_train)\n",
    "\n",
    "y_pred_lr = model_lr.predict(X_test)\n",
    "cm = metrics.confusion_matrix(y_test, y_pred_lr)\n",
    "\n",
    "print(\"Accuracy: {:.2f} %\".format(accuracy_score(y_test.astype('int'), y_pred_lr.astype('int'))*100))\n",
    "disp = ConfusionMatrixDisplay(confusion_matrix=cm, display_labels = [0, 1])\n",
    "disp.plot()\n",
    "plt.title(\"LogisticRegression (HalvingGridSearch)\")\n",
    "plt.show()\n",
    "\n",
    "# Applying k-Fold Cross Validation\n",
    "from sklearn.model_selection import cross_val_score\n",
    "cv_accuracy_1 = cross_val_score(estimator = model_lr, X = X_train, y = y_train, cv = 10)\n",
    "cv_precision_1 = cross_val_score(estimator = model_lr, X = X_train, y = y_train, cv = 10, scoring='precision')\n",
    "cv_recall_1 = cross_val_score(estimator = model_lr, X = X_train, y = y_train, cv = 10, scoring='recall')\n",
    "cv_f1_1 = cross_val_score(estimator = model_lr, X = X_train, y = y_train, cv = 10, scoring='f1')\n",
    "\n",
    "print('Accuracy: {:.2f} %'.format(cv_accuracy_1.mean()*100))\n",
    "print('Standard Deviation: {:.2f} %'.format(cv_accuracy_1.std()*100))\n",
    "print('Precision: {:.2f} %'.format(cv_precision_1.mean()*100))\n",
    "print('Recall: {:.2f} %'.format(cv_recall_1.mean()*100))\n",
    "print('F1: {:.2f} %'.format(cv_f1_1.mean()*100))\n",
    "#print('ROC_AUC: {:.2f} %'.format(cv_roc_0.mean()*100))"
   ]
  },
  {
   "cell_type": "code",
   "execution_count": 73,
   "metadata": {},
   "outputs": [
    {
     "name": "stdout",
     "output_type": "stream",
     "text": [
      "0.8013333333333333\n",
      "0.6132596685082873\n",
      "0.17425431711145997\n",
      "0.27139364303178487\n"
     ]
    }
   ],
   "source": [
    "accuracy_1 = accuracy_score(y_test, y_pred_lr)\n",
    "precision_1 = precision_score(y_test, y_pred_lr)\n",
    "recall_1 = recall_score(y_test, y_pred_lr)\n",
    "f1_1 = f1_score(y_test, y_pred_lr)\n",
    "print(accuracy_1)\n",
    "print(precision_1)\n",
    "print(recall_1)\n",
    "print(f1_1)"
   ]
  },
  {
   "cell_type": "code",
   "execution_count": 74,
   "metadata": {},
   "outputs": [
    {
     "name": "stdout",
     "output_type": "stream",
     "text": [
      "Accuracy: 86.13 %\n"
     ]
    },
    {
     "data": {
      "image/png": "[encoded data removed]",
      "text/plain": [
       "<Figure size 432x288 with 2 Axes>"
      ]
     },
     "metadata": {
      "needs_background": "light"
     },
     "output_type": "display_data"
    },
    {
     "name": "stdout",
     "output_type": "stream",
     "text": [
      "Accuracy: 86.14 %\n",
      "Standard Deviation: 0.69 %\n",
      "Precision: 75.53 %\n",
      "Recall: 46.00 %\n",
      "F1: 57.38 %\n"
     ]
    }
   ],
   "source": [
    "from sklearn.ensemble import RandomForestClassifier\n",
    "model_rf = RandomForestClassifier()\n",
    "\n",
    "model_rf.fit(X_train, y_train)\n",
    "y_pred_rf = model_rf.predict(X_test)\n",
    "cm = confusion_matrix(y_test, y_pred_rf.astype('int'))\n",
    "\n",
    "\n",
    "print(\"Accuracy: {:.2f} %\".format(accuracy_score(y_test, y_pred_rf.astype('int'))*100))\n",
    "disp = ConfusionMatrixDisplay(confusion_matrix=cm, display_labels = [False, True])\n",
    "disp.plot()\n",
    "plt.title(\"RandomForest\")\n",
    "plt.show()\n",
    "\n",
    "cv_accuracy_2 = cross_val_score(estimator = model_rf, X = X_train, y = y_train, cv = 10)\n",
    "cv_precision_2 = cross_val_score(estimator = model_rf, X = X_train, y = y_train, cv = 10, scoring='precision')\n",
    "cv_recall_2 = cross_val_score(estimator = model_rf, X = X_train, y = y_train, cv = 10, scoring='recall')\n",
    "cv_f1_2 = cross_val_score(estimator = model_rf, X = X_train, y = y_train, cv = 10, scoring='f1')\n",
    "#cv_roc_1 = cross_val_score(estimator = model_rf, X = X_train, y = y_train, cv = 10, scoring='roc_auc')\n",
    "#print(cv_accuracy_1)\n",
    "print('Accuracy: {:.2f} %'.format(cv_accuracy_2.mean()*100))\n",
    "print('Standard Deviation: {:.2f} %'.format(cv_accuracy_2.std()*100))\n",
    "print('Precision: {:.2f} %'.format(cv_precision_2.mean()*100))\n",
    "print('Recall: {:.2f} %'.format(cv_recall_2.mean()*100))\n",
    "print('F1: {:.2f} %'.format(cv_f1_2.mean()*100))\n",
    "#print('ROC_AUC: {:.2f} %'.format(cv_roc_1.mean()*100))"
   ]
  },
  {
   "cell_type": "code",
   "execution_count": 75,
   "metadata": {},
   "outputs": [
    {
     "name": "stdout",
     "output_type": "stream",
     "text": [
      "0.8613333333333333\n",
      "0.7978436657681941\n",
      "0.46467817896389324\n",
      "0.5873015873015872\n"
     ]
    }
   ],
   "source": [
    "accuracy_2 = accuracy_score(y_test, y_pred_rf)\n",
    "precision_2 = precision_score(y_test, y_pred_rf)\n",
    "recall_2 = recall_score(y_test, y_pred_rf) \n",
    "f1_2 = f1_score(y_test, y_pred_rf)\n",
    "print(accuracy_2)\n",
    "print(precision_2)\n",
    "print(recall_2)\n",
    "print(f1_2)"
   ]
  },
  {
   "cell_type": "code",
   "execution_count": 76,
   "metadata": {},
   "outputs": [
    {
     "name": "stdout",
     "output_type": "stream",
     "text": [
      "n_iterations: 6\n",
      "n_required_iterations: 6\n",
      "n_possible_iterations: 6\n",
      "min_resources_: 28\n",
      "max_resources_: 7000\n",
      "aggressive_elimination: False\n",
      "factor: 3\n",
      "----------\n",
      "iter: 0\n",
      "n_candidates: 567\n",
      "n_resources: 28\n",
      "Fitting 5 folds for each of 567 candidates, totalling 2835 fits\n",
      "----------\n",
      "iter: 1\n",
      "n_candidates: 189\n",
      "n_resources: 84\n",
      "Fitting 5 folds for each of 189 candidates, totalling 945 fits\n",
      "----------\n",
      "iter: 2\n",
      "n_candidates: 63\n",
      "n_resources: 252\n",
      "Fitting 5 folds for each of 63 candidates, totalling 315 fits\n",
      "----------\n",
      "iter: 3\n",
      "n_candidates: 21\n",
      "n_resources: 756\n",
      "Fitting 5 folds for each of 21 candidates, totalling 105 fits\n",
      "----------\n",
      "iter: 4\n",
      "n_candidates: 7\n",
      "n_resources: 2268\n",
      "Fitting 5 folds for each of 7 candidates, totalling 35 fits\n",
      "----------\n",
      "iter: 5\n",
      "n_candidates: 3\n",
      "n_resources: 6804\n",
      "Fitting 5 folds for each of 3 candidates, totalling 15 fits\n",
      "tuned hpyerparameters :(best parameters)  {'class_weight': 'balanced', 'max_depth': 9, 'max_features': 'sqrt', 'min_samples_leaf': 9, 'min_samples_split': 3, 'n_estimators': 100}\n",
      "f1 score : 0.6025668495084634\n"
     ]
    }
   ],
   "source": [
    "from sklearn.ensemble import RandomForestClassifier\n",
    "model_rf = RandomForestClassifier()\n",
    "\n",
    "\n",
    "# class_weight:['balanced']\n",
    "grid = {'n_estimators': [50, 100, 150], 'max_features': ['sqrt', 'log2', None], \n",
    "\t\t\t\t'max_depth': [6, 7, 8, 9, 10, 11, 12], 'min_samples_split': [3, 6, 9],'min_samples_leaf': [3, 6, 9], 'class_weight': ['balanced']}\n",
    "\n",
    "model_grid = HalvingGridSearchCV(model_rf, grid, random_state=42, verbose=1,\n",
    "                                         scoring='f1',return_train_score=True)\n",
    "model_grid.fit(X_train,y_train)\n",
    "print(\"tuned hpyerparameters :(best parameters) \", model_grid.best_params_)\n",
    "print(\"f1 score :\", model_grid.best_score_)"
   ]
  },
  {
   "cell_type": "code",
   "execution_count": 77,
   "metadata": {},
   "outputs": [
    {
     "name": "stdout",
     "output_type": "stream",
     "text": [
      "Accuracy: 82.60 %\n"
     ]
    },
    {
     "data": {
      "image/png": "[encoded data removed]",
      "text/plain": [
       "<Figure size 432x288 with 2 Axes>"
      ]
     },
     "metadata": {
      "needs_background": "light"
     },
     "output_type": "display_data"
    },
    {
     "name": "stdout",
     "output_type": "stream",
     "text": [
      "Accuracy: 82.15 %\n",
      "Standard Deviation: 0.52 %\n",
      "Precision: 54.85 %\n",
      "Recall: 69.37 %\n",
      "F1: 61.40 %\n"
     ]
    }
   ],
   "source": [
    "model_rf = RandomForestClassifier(class_weight = 'balanced', max_depth = 9, max_features = 'sqrt', min_samples_leaf = 9, min_samples_split = 3, n_estimators = 100)\n",
    "\n",
    "model_rf.fit(X_train, y_train)\n",
    "y_pred_rf = model_rf.predict(X_test)\n",
    "cm = confusion_matrix(y_test, y_pred_rf.astype('int'))\n",
    "\n",
    "print(\"Accuracy: {:.2f} %\".format(accuracy_score(y_test, y_pred_rf.astype('int'))*100))\n",
    "disp = ConfusionMatrixDisplay(confusion_matrix=cm, display_labels = [False, True])\n",
    "disp.plot()\n",
    "plt.title(\"RandomForest(HalvingGridSearch)\")\n",
    "plt.show()\n",
    "\n",
    "cv_accuracy_3 = cross_val_score(estimator = model_rf, X = X_train, y = y_train, cv = 10)\n",
    "cv_precision_3 = cross_val_score(estimator = model_rf, X = X_train, y = y_train, cv = 10, scoring='precision')\n",
    "cv_recall_3 = cross_val_score(estimator = model_rf, X = X_train, y = y_train, cv = 10, scoring='recall')\n",
    "cv_f1_3 = cross_val_score(estimator = model_rf, X = X_train, y = y_train, cv = 10, scoring='f1')\n",
    "#cv_roc_2 = cross_val_score(estimator = model_rf, X = X_train, y = y_train, cv = 10, scoring='roc_auc')\n",
    "#print(cv_accuracy_0)\n",
    "print('Accuracy: {:.2f} %'.format(cv_accuracy_3.mean()*100))\n",
    "print('Standard Deviation: {:.2f} %'.format(cv_accuracy_3.std()*100))\n",
    "print('Precision: {:.2f} %'.format(cv_precision_3.mean()*100))\n",
    "print('Recall: {:.2f} %'.format(cv_recall_3.mean()*100))\n",
    "print('F1: {:.2f} %'.format(cv_f1_3.mean()*100))\n",
    "#print('ROC_AUC: {:.2f} %'.format(cv_roc_2.mean()*100))"
   ]
  },
  {
   "cell_type": "code",
   "execution_count": 78,
   "metadata": {},
   "outputs": [
    {
     "name": "stdout",
     "output_type": "stream",
     "text": [
      "0.826\n",
      "0.5736235595390525\n",
      "0.7032967032967034\n",
      "0.6318758815232722\n"
     ]
    }
   ],
   "source": [
    "accuracy_3 = accuracy_score(y_test, y_pred_rf)\n",
    "precision_3 = precision_score(y_test, y_pred_rf)\n",
    "recall_3 = recall_score(y_test, y_pred_rf)\n",
    "f1_3 = f1_score(y_test, y_pred_rf)\n",
    "print(accuracy_3)\n",
    "print(precision_3)\n",
    "print(recall_3)\n",
    "print(f1_3)"
   ]
  },
  {
   "cell_type": "code",
   "execution_count": 20,
   "metadata": {},
   "outputs": [
    {
     "name": "stdout",
     "output_type": "stream",
     "text": [
      "              precision    recall  f1-score   support\n",
      "\n",
      "           0       0.82      0.97      0.89      2375\n",
      "           1       0.62      0.17      0.27       625\n",
      "\n",
      "    accuracy                           0.81      3000\n",
      "   macro avg       0.72      0.57      0.58      3000\n",
      "weighted avg       0.78      0.81      0.76      3000\n",
      "\n"
     ]
    }
   ],
   "source": [
    "from sklearn.metrics import classification_report\n",
    "print(classification_report(y_test, y_pred_lr))"
   ]
  },
  {
   "cell_type": "code",
   "execution_count": 21,
   "metadata": {},
   "outputs": [
    {
     "name": "stdout",
     "output_type": "stream",
     "text": [
      "              precision    recall  f1-score   support\n",
      "\n",
      "           0       0.90      0.88      0.89      2375\n",
      "           1       0.58      0.64      0.61       625\n",
      "\n",
      "    accuracy                           0.83      3000\n",
      "   macro avg       0.74      0.76      0.75      3000\n",
      "weighted avg       0.83      0.83      0.83      3000\n",
      "\n"
     ]
    }
   ],
   "source": [
    "print(classification_report(y_test, y_pred_rf))"
   ]
  },
  {
   "cell_type": "code",
   "execution_count": 79,
   "metadata": {},
   "outputs": [
    {
     "data": {
      "text/html": [
       "<div>\n",
       "<style scoped>\n",
       "    .dataframe tbody tr th:only-of-type {\n",
       "        vertical-align: middle;\n",
       "    }\n",
       "\n",
       "    .dataframe tbody tr th {\n",
       "        vertical-align: top;\n",
       "    }\n",
       "\n",
       "    .dataframe thead th {\n",
       "        text-align: right;\n",
       "    }\n",
       "</style>\n",
       "<table border=\"1\" class=\"dataframe\">\n",
       "  <thead>\n",
       "    <tr style=\"text-align: right;\">\n",
       "      <th></th>\n",
       "      <th>Accuracy</th>\n",
       "      <th>Precision</th>\n",
       "      <th>Recall</th>\n",
       "      <th>F1 Score</th>\n",
       "    </tr>\n",
       "  </thead>\n",
       "  <tbody>\n",
       "    <tr>\n",
       "      <th>LogisticRegression</th>\n",
       "      <td>0.7900</td>\n",
       "      <td>0.3900</td>\n",
       "      <td>0.0569</td>\n",
       "      <td>0.0993</td>\n",
       "    </tr>\n",
       "    <tr>\n",
       "      <th>LogisticRegression (HalvingGridSearch)</th>\n",
       "      <td>0.8084</td>\n",
       "      <td>0.6007</td>\n",
       "      <td>0.1787</td>\n",
       "      <td>0.2749</td>\n",
       "    </tr>\n",
       "    <tr>\n",
       "      <th>RandomForest</th>\n",
       "      <td>0.8614</td>\n",
       "      <td>0.7553</td>\n",
       "      <td>0.4600</td>\n",
       "      <td>0.5738</td>\n",
       "    </tr>\n",
       "    <tr>\n",
       "      <th>RandomForest (HalvingGridSearch)</th>\n",
       "      <td>0.8215</td>\n",
       "      <td>0.5485</td>\n",
       "      <td>0.6937</td>\n",
       "      <td>0.6140</td>\n",
       "    </tr>\n",
       "  </tbody>\n",
       "</table>\n",
       "</div>"
      ],
      "text/plain": [
       "                                        Accuracy  Precision  Recall  F1 Score\n",
       "LogisticRegression                        0.7900     0.3900  0.0569    0.0993\n",
       "LogisticRegression (HalvingGridSearch)    0.8084     0.6007  0.1787    0.2749\n",
       "RandomForest                              0.8614     0.7553  0.4600    0.5738\n",
       "RandomForest (HalvingGridSearch)          0.8215     0.5485  0.6937    0.6140"
      ]
     },
     "execution_count": 79,
     "metadata": {},
     "output_type": "execute_result"
    }
   ],
   "source": [
    "pd.set_option('display.float_format', '{:.4f}'.format)\n",
    "\n",
    "df_x = pd.DataFrame({\n",
    "    'LogisticRegression': [cv_accuracy_0.mean(), cv_precision_0.mean(), cv_recall_0.mean(), cv_f1_0.mean()], \n",
    "    'LogisticRegression (HalvingGridSearch)': [cv_accuracy_1.mean(), cv_precision_1.mean(), cv_recall_1.mean(), cv_f1_1.mean()], \n",
    "    'RandomForest': [cv_accuracy_2.mean(), cv_precision_2.mean(), cv_recall_2.mean(), cv_f1_2.mean()], \n",
    "    'RandomForest (HalvingGridSearch)': [cv_accuracy_3.mean(), cv_precision_3.mean(), cv_recall_3.mean(), cv_f1_3.mean()]}, index = ['Accuracy', 'Precision', 'Recall', 'F1 Score']).T\n",
    "df_x"
   ]
  },
  {
   "cell_type": "code",
   "execution_count": 80,
   "metadata": {},
   "outputs": [
    {
     "data": {
      "text/html": [
       "<div>\n",
       "<style scoped>\n",
       "    .dataframe tbody tr th:only-of-type {\n",
       "        vertical-align: middle;\n",
       "    }\n",
       "\n",
       "    .dataframe tbody tr th {\n",
       "        vertical-align: top;\n",
       "    }\n",
       "\n",
       "    .dataframe thead th {\n",
       "        text-align: right;\n",
       "    }\n",
       "</style>\n",
       "<table border=\"1\" class=\"dataframe\">\n",
       "  <thead>\n",
       "    <tr style=\"text-align: right;\">\n",
       "      <th></th>\n",
       "      <th>Accuracy</th>\n",
       "      <th>Precision</th>\n",
       "      <th>Recall</th>\n",
       "      <th>F1 Score</th>\n",
       "    </tr>\n",
       "  </thead>\n",
       "  <tbody>\n",
       "    <tr>\n",
       "      <th>LogisticRegression</th>\n",
       "      <td>0.8013</td>\n",
       "      <td>0.6133</td>\n",
       "      <td>0.1743</td>\n",
       "      <td>0.2714</td>\n",
       "    </tr>\n",
       "    <tr>\n",
       "      <th>LogisticRegression (HalvingGridSearch)</th>\n",
       "      <td>0.8013</td>\n",
       "      <td>0.6133</td>\n",
       "      <td>0.1743</td>\n",
       "      <td>0.2714</td>\n",
       "    </tr>\n",
       "    <tr>\n",
       "      <th>RandomForest</th>\n",
       "      <td>0.8613</td>\n",
       "      <td>0.7978</td>\n",
       "      <td>0.4647</td>\n",
       "      <td>0.5873</td>\n",
       "    </tr>\n",
       "    <tr>\n",
       "      <th>RandomForest (HalvingGridSearch)</th>\n",
       "      <td>0.8260</td>\n",
       "      <td>0.5736</td>\n",
       "      <td>0.7033</td>\n",
       "      <td>0.6319</td>\n",
       "    </tr>\n",
       "  </tbody>\n",
       "</table>\n",
       "</div>"
      ],
      "text/plain": [
       "                                        Accuracy  Precision  Recall  F1 Score\n",
       "LogisticRegression                        0.8013     0.6133  0.1743    0.2714\n",
       "LogisticRegression (HalvingGridSearch)    0.8013     0.6133  0.1743    0.2714\n",
       "RandomForest                              0.8613     0.7978  0.4647    0.5873\n",
       "RandomForest (HalvingGridSearch)          0.8260     0.5736  0.7033    0.6319"
      ]
     },
     "execution_count": 80,
     "metadata": {},
     "output_type": "execute_result"
    }
   ],
   "source": [
    "pd.set_option('display.float_format', '{:.4f}'.format)\n",
    "\n",
    "df_y = pd.DataFrame({\n",
    "    'LogisticRegression': [accuracy_0, precision_0, recall_0, f1_0], \n",
    "    'LogisticRegression (HalvingGridSearch)': [accuracy_1, precision_1, recall_1, f1_1], \n",
    "    'RandomForest': [accuracy_2, precision_2, recall_2, f1_2], \n",
    "    'RandomForest (HalvingGridSearch)': [accuracy_3, precision_3, recall_3, f1_3]}, index = ['Accuracy', 'Precision', 'Recall', 'F1 Score']).T\n",
    "df_y"
   ]
  },
  {
   "cell_type": "code",
   "execution_count": 27,
   "metadata": {},
   "outputs": [
    {
     "data": {
      "text/plain": [
       "array([0.0761861 , 0.05124154, 0.02214079, 0.34413263, 0.04092104,\n",
       "       0.11271846, 0.21440341, 0.05884939, 0.07940662])"
      ]
     },
     "execution_count": 27,
     "metadata": {},
     "output_type": "execute_result"
    }
   ],
   "source": [
    "model_rf.feature_importances_"
   ]
  },
  {
   "cell_type": "code",
   "execution_count": 50,
   "metadata": {},
   "outputs": [
    {
     "data": {
      "image/png": "[encoded data removed]",
      "text/plain": [
       "<Figure size 576x360 with 1 Axes>"
      ]
     },
     "metadata": {
      "needs_background": "light"
     },
     "output_type": "display_data"
    }
   ],
   "source": [
    "feature_importances = model_rf.feature_importances_\n",
    "feature_names = X.columns\n",
    "feature_importance_df = pd.DataFrame({'Feature': feature_names, \n",
    "                                'Importance': feature_importances})\n",
    "feature_importance_df = feature_importance_df.sort_values(by='Importance', ascending=False)\n",
    "\n",
    "plt.figure(figsize=(8, 5))\n",
    "sns.barplot(x='Importance', y='Feature', data=feature_importance_df, palette='flare')\n",
    "plt.xlabel('Importance')\n",
    "plt.title('Feature Importances in Random Forest Classifier')\n",
    "plt.show()"
   ]
  },
  {
   "cell_type": "code",
   "execution_count": null,
   "metadata": {},
   "outputs": [],
   "source": [
    "#feature_importance_dict = dict(zip(X.columns, model_rf.feature_importances_))\n",
    "#sorted_feature_importance = sorted(feature_importance_dict.items(), key=lambda x: x[1])\n",
    "#features, importances = zip(*sorted_feature_importance)\n",
    "\n",
    "#plt.figure(figsize=(10, 6))\n",
    "#colors = plt.cm.plasma(np.linspace(0, 1, len(features)))\n",
    "\n",
    "#plt.barh(range(len(features)), importances, align='center', color = colors)\n",
    "#plt.yticks(range(len(features)), features)\n",
    "#plt.xlabel('Importance')\n",
    "#plt.ylabel('Features')\n",
    "# plt.title('Feature Importance of Random Forest Model')\n",
    "#plt.show()"
   ]
  }
 ],
 "metadata": {
  "kernelspec": {
   "display_name": "Python 3",
   "language": "python",
   "name": "python3"
  },
  "language_info": {
   "codemirror_mode": {
    "name": "ipython",
    "version": 3
   },
   "file_extension": ".py",
   "mimetype": "text/x-python",
   "name": "python",
   "nbconvert_exporter": "python",
   "pygments_lexer": "ipython3",
   "version": "3.9.6"
  }
 },
 "nbformat": 4,
 "nbformat_minor": 2
}
